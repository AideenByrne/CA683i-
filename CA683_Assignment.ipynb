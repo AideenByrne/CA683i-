{
  "nbformat": 4,
  "nbformat_minor": 0,
  "metadata": {
    "colab": {
      "name": "CA683 Assignment",
      "provenance": [],
      "collapsed_sections": [],
      "include_colab_link": true
    },
    "kernelspec": {
      "display_name": "Python 3",
      "name": "python3"
    }
  },
  "cells": [
    {
      "cell_type": "markdown",
      "metadata": {
        "id": "view-in-github",
        "colab_type": "text"
      },
      "source": [
        "<a href=\"https://colab.research.google.com/github/AideenByrne/CA683i-/blob/main/CA683_Assignment.ipynb\" target=\"_parent\"><img src=\"https://colab.research.google.com/assets/colab-badge.svg\" alt=\"Open In Colab\"/></a>"
      ]
    },
    {
      "cell_type": "markdown",
      "metadata": {
        "id": "L36VWFLkdN1R"
      },
      "source": [
        "#Sentiment Analysis Using Rotten Tomatoes Movie Reviews\n",
        "## CA683i Group 8"
      ]
    },
    {
      "cell_type": "code",
      "metadata": {
        "id": "ckQ1ukQq4Qeq",
        "colab": {
          "base_uri": "https://localhost:8080/"
        },
        "outputId": "ae889f0d-c1d1-46d7-8c22-5743a023e863"
      },
      "source": [
        "from google.colab import drive\n",
        "import os\n",
        "drive.mount('/content/drive/', force_remount=True)\n",
        "os.chdir('/content/drive/My Drive/CA683 Assignment')\n",
        "!ls"
      ],
      "execution_count": null,
      "outputs": [
        {
          "output_type": "stream",
          "text": [
            "Mounted at /content/drive/\n",
            "'Multiclass ROC.png'   test.tsv   train.tsv\n"
          ],
          "name": "stdout"
        }
      ]
    },
    {
      "cell_type": "code",
      "metadata": {
        "id": "prQOExxM52UA",
        "colab": {
          "base_uri": "https://localhost:8080/"
        },
        "outputId": "8d260bf8-4873-4694-92cc-d5afb2275755"
      },
      "source": [
        "##importing necessary libraries\n",
        "import pandas as pd\n",
        "import numpy as np\n",
        "import matplotlib.pyplot as plt\n",
        "import seaborn as sns\n",
        "import nltk\n",
        "from nltk.tokenize import word_tokenize\n",
        "from sklearn.model_selection import train_test_split\n",
        "from sklearn.feature_extraction.text import TfidfVectorizer\n",
        "from sklearn import svm\n",
        "import statsmodels.api as sm\n",
        "\n",
        "##reading data from .csv files to Pandas dataframes\n",
        "train = pd.read_csv('train.tsv', sep='\\t')\n",
        "test = pd.read_csv('test.tsv', sep='\\t')"
      ],
      "execution_count": null,
      "outputs": [
        {
          "output_type": "stream",
          "text": [
            "/usr/local/lib/python3.7/dist-packages/statsmodels/tools/_testing.py:19: FutureWarning: pandas.util.testing is deprecated. Use the functions in the public API at pandas.testing instead.\n",
            "  import pandas.util.testing as tm\n"
          ],
          "name": "stderr"
        }
      ]
    },
    {
      "cell_type": "code",
      "metadata": {
        "id": "EwqS_AUZjk61",
        "colab": {
          "base_uri": "https://localhost:8080/"
        },
        "outputId": "a5018113-72d4-4021-c98d-2a122e4fe69e"
      },
      "source": [
        "!pip install textblob"
      ],
      "execution_count": null,
      "outputs": [
        {
          "output_type": "stream",
          "text": [
            "Requirement already satisfied: textblob in /usr/local/lib/python3.7/dist-packages (0.15.3)\n",
            "Requirement already satisfied: nltk>=3.1 in /usr/local/lib/python3.7/dist-packages (from textblob) (3.2.5)\n",
            "Requirement already satisfied: six in /usr/local/lib/python3.7/dist-packages (from nltk>=3.1->textblob) (1.15.0)\n"
          ],
          "name": "stdout"
        }
      ]
    },
    {
      "cell_type": "code",
      "metadata": {
        "id": "5Qfyoaj6ucFR",
        "colab": {
          "base_uri": "https://localhost:8080/"
        },
        "outputId": "81416d84-68e5-4f0a-c5bf-6c6cd35e546c"
      },
      "source": [
        "!python -m textblob.download_corpora"
      ],
      "execution_count": null,
      "outputs": [
        {
          "output_type": "stream",
          "text": [
            "[nltk_data] Downloading package brown to /root/nltk_data...\n",
            "[nltk_data]   Package brown is already up-to-date!\n",
            "[nltk_data] Downloading package punkt to /root/nltk_data...\n",
            "[nltk_data]   Package punkt is already up-to-date!\n",
            "[nltk_data] Downloading package wordnet to /root/nltk_data...\n",
            "[nltk_data]   Package wordnet is already up-to-date!\n",
            "[nltk_data] Downloading package averaged_perceptron_tagger to\n",
            "[nltk_data]     /root/nltk_data...\n",
            "[nltk_data]   Package averaged_perceptron_tagger is already up-to-\n",
            "[nltk_data]       date!\n",
            "[nltk_data] Downloading package conll2000 to /root/nltk_data...\n",
            "[nltk_data]   Package conll2000 is already up-to-date!\n",
            "[nltk_data] Downloading package movie_reviews to /root/nltk_data...\n",
            "[nltk_data]   Package movie_reviews is already up-to-date!\n",
            "Finished.\n"
          ],
          "name": "stdout"
        }
      ]
    },
    {
      "cell_type": "markdown",
      "metadata": {
        "id": "b2bWKMymdzRl"
      },
      "source": [
        "## Exploratory Data Analysis"
      ]
    },
    {
      "cell_type": "code",
      "metadata": {
        "id": "xm9za1MCdmK1",
        "colab": {
          "base_uri": "https://localhost:8080/",
          "height": 191
        },
        "outputId": "782e5b84-1daf-4b58-ca5c-b7c74c1f2299"
      },
      "source": [
        "train.head()"
      ],
      "execution_count": null,
      "outputs": [
        {
          "output_type": "execute_result",
          "data": {
            "text/html": [
              "<div>\n",
              "<style scoped>\n",
              "    .dataframe tbody tr th:only-of-type {\n",
              "        vertical-align: middle;\n",
              "    }\n",
              "\n",
              "    .dataframe tbody tr th {\n",
              "        vertical-align: top;\n",
              "    }\n",
              "\n",
              "    .dataframe thead th {\n",
              "        text-align: right;\n",
              "    }\n",
              "</style>\n",
              "<table border=\"1\" class=\"dataframe\">\n",
              "  <thead>\n",
              "    <tr style=\"text-align: right;\">\n",
              "      <th></th>\n",
              "      <th>PhraseId</th>\n",
              "      <th>SentenceId</th>\n",
              "      <th>Phrase</th>\n",
              "      <th>Sentiment</th>\n",
              "    </tr>\n",
              "  </thead>\n",
              "  <tbody>\n",
              "    <tr>\n",
              "      <th>0</th>\n",
              "      <td>1</td>\n",
              "      <td>1</td>\n",
              "      <td>A series of escapades demonstrating the adage ...</td>\n",
              "      <td>1</td>\n",
              "    </tr>\n",
              "    <tr>\n",
              "      <th>1</th>\n",
              "      <td>2</td>\n",
              "      <td>1</td>\n",
              "      <td>A series of escapades demonstrating the adage ...</td>\n",
              "      <td>2</td>\n",
              "    </tr>\n",
              "    <tr>\n",
              "      <th>2</th>\n",
              "      <td>3</td>\n",
              "      <td>1</td>\n",
              "      <td>A series</td>\n",
              "      <td>2</td>\n",
              "    </tr>\n",
              "    <tr>\n",
              "      <th>3</th>\n",
              "      <td>4</td>\n",
              "      <td>1</td>\n",
              "      <td>A</td>\n",
              "      <td>2</td>\n",
              "    </tr>\n",
              "    <tr>\n",
              "      <th>4</th>\n",
              "      <td>5</td>\n",
              "      <td>1</td>\n",
              "      <td>series</td>\n",
              "      <td>2</td>\n",
              "    </tr>\n",
              "  </tbody>\n",
              "</table>\n",
              "</div>"
            ],
            "text/plain": [
              "   PhraseId  ...  Sentiment\n",
              "0         1  ...          1\n",
              "1         2  ...          2\n",
              "2         3  ...          2\n",
              "3         4  ...          2\n",
              "4         5  ...          2\n",
              "\n",
              "[5 rows x 4 columns]"
            ]
          },
          "metadata": {
            "tags": []
          },
          "execution_count": 5
        }
      ]
    },
    {
      "cell_type": "code",
      "metadata": {
        "id": "TngVRwyu_wnE",
        "colab": {
          "base_uri": "https://localhost:8080/",
          "height": 277
        },
        "outputId": "61f22dbd-7aa7-4f3d-9d62-262f3e8050a2"
      },
      "source": [
        "train.describe()\n",
        "#no missing values"
      ],
      "execution_count": null,
      "outputs": [
        {
          "output_type": "execute_result",
          "data": {
            "text/html": [
              "<div>\n",
              "<style scoped>\n",
              "    .dataframe tbody tr th:only-of-type {\n",
              "        vertical-align: middle;\n",
              "    }\n",
              "\n",
              "    .dataframe tbody tr th {\n",
              "        vertical-align: top;\n",
              "    }\n",
              "\n",
              "    .dataframe thead th {\n",
              "        text-align: right;\n",
              "    }\n",
              "</style>\n",
              "<table border=\"1\" class=\"dataframe\">\n",
              "  <thead>\n",
              "    <tr style=\"text-align: right;\">\n",
              "      <th></th>\n",
              "      <th>PhraseId</th>\n",
              "      <th>SentenceId</th>\n",
              "      <th>Sentiment</th>\n",
              "    </tr>\n",
              "  </thead>\n",
              "  <tbody>\n",
              "    <tr>\n",
              "      <th>count</th>\n",
              "      <td>156060.000000</td>\n",
              "      <td>156060.000000</td>\n",
              "      <td>156060.000000</td>\n",
              "    </tr>\n",
              "    <tr>\n",
              "      <th>mean</th>\n",
              "      <td>78030.500000</td>\n",
              "      <td>4079.732744</td>\n",
              "      <td>2.063578</td>\n",
              "    </tr>\n",
              "    <tr>\n",
              "      <th>std</th>\n",
              "      <td>45050.785842</td>\n",
              "      <td>2502.764394</td>\n",
              "      <td>0.893832</td>\n",
              "    </tr>\n",
              "    <tr>\n",
              "      <th>min</th>\n",
              "      <td>1.000000</td>\n",
              "      <td>1.000000</td>\n",
              "      <td>0.000000</td>\n",
              "    </tr>\n",
              "    <tr>\n",
              "      <th>25%</th>\n",
              "      <td>39015.750000</td>\n",
              "      <td>1861.750000</td>\n",
              "      <td>2.000000</td>\n",
              "    </tr>\n",
              "    <tr>\n",
              "      <th>50%</th>\n",
              "      <td>78030.500000</td>\n",
              "      <td>4017.000000</td>\n",
              "      <td>2.000000</td>\n",
              "    </tr>\n",
              "    <tr>\n",
              "      <th>75%</th>\n",
              "      <td>117045.250000</td>\n",
              "      <td>6244.000000</td>\n",
              "      <td>3.000000</td>\n",
              "    </tr>\n",
              "    <tr>\n",
              "      <th>max</th>\n",
              "      <td>156060.000000</td>\n",
              "      <td>8544.000000</td>\n",
              "      <td>4.000000</td>\n",
              "    </tr>\n",
              "  </tbody>\n",
              "</table>\n",
              "</div>"
            ],
            "text/plain": [
              "            PhraseId     SentenceId      Sentiment\n",
              "count  156060.000000  156060.000000  156060.000000\n",
              "mean    78030.500000    4079.732744       2.063578\n",
              "std     45050.785842    2502.764394       0.893832\n",
              "min         1.000000       1.000000       0.000000\n",
              "25%     39015.750000    1861.750000       2.000000\n",
              "50%     78030.500000    4017.000000       2.000000\n",
              "75%    117045.250000    6244.000000       3.000000\n",
              "max    156060.000000    8544.000000       4.000000"
            ]
          },
          "metadata": {
            "tags": []
          },
          "execution_count": 6
        }
      ]
    },
    {
      "cell_type": "code",
      "metadata": {
        "id": "cAvefc-Boh3L",
        "colab": {
          "base_uri": "https://localhost:8080/",
          "height": 277
        },
        "outputId": "161ec0cd-1da2-43a6-b0d4-8ad2d27b1ef8"
      },
      "source": [
        "test.describe()\n",
        "#no missing values"
      ],
      "execution_count": null,
      "outputs": [
        {
          "output_type": "execute_result",
          "data": {
            "text/html": [
              "<div>\n",
              "<style scoped>\n",
              "    .dataframe tbody tr th:only-of-type {\n",
              "        vertical-align: middle;\n",
              "    }\n",
              "\n",
              "    .dataframe tbody tr th {\n",
              "        vertical-align: top;\n",
              "    }\n",
              "\n",
              "    .dataframe thead th {\n",
              "        text-align: right;\n",
              "    }\n",
              "</style>\n",
              "<table border=\"1\" class=\"dataframe\">\n",
              "  <thead>\n",
              "    <tr style=\"text-align: right;\">\n",
              "      <th></th>\n",
              "      <th>PhraseId</th>\n",
              "      <th>SentenceId</th>\n",
              "    </tr>\n",
              "  </thead>\n",
              "  <tbody>\n",
              "    <tr>\n",
              "      <th>count</th>\n",
              "      <td>66292.00000</td>\n",
              "      <td>66292.000000</td>\n",
              "    </tr>\n",
              "    <tr>\n",
              "      <th>mean</th>\n",
              "      <td>189206.50000</td>\n",
              "      <td>10114.909144</td>\n",
              "    </tr>\n",
              "    <tr>\n",
              "      <th>std</th>\n",
              "      <td>19136.99636</td>\n",
              "      <td>966.787807</td>\n",
              "    </tr>\n",
              "    <tr>\n",
              "      <th>min</th>\n",
              "      <td>156061.00000</td>\n",
              "      <td>8545.000000</td>\n",
              "    </tr>\n",
              "    <tr>\n",
              "      <th>25%</th>\n",
              "      <td>172633.75000</td>\n",
              "      <td>9266.000000</td>\n",
              "    </tr>\n",
              "    <tr>\n",
              "      <th>50%</th>\n",
              "      <td>189206.50000</td>\n",
              "      <td>10086.000000</td>\n",
              "    </tr>\n",
              "    <tr>\n",
              "      <th>75%</th>\n",
              "      <td>205779.25000</td>\n",
              "      <td>10941.000000</td>\n",
              "    </tr>\n",
              "    <tr>\n",
              "      <th>max</th>\n",
              "      <td>222352.00000</td>\n",
              "      <td>11855.000000</td>\n",
              "    </tr>\n",
              "  </tbody>\n",
              "</table>\n",
              "</div>"
            ],
            "text/plain": [
              "           PhraseId    SentenceId\n",
              "count   66292.00000  66292.000000\n",
              "mean   189206.50000  10114.909144\n",
              "std     19136.99636    966.787807\n",
              "min    156061.00000   8545.000000\n",
              "25%    172633.75000   9266.000000\n",
              "50%    189206.50000  10086.000000\n",
              "75%    205779.25000  10941.000000\n",
              "max    222352.00000  11855.000000"
            ]
          },
          "metadata": {
            "tags": []
          },
          "execution_count": 7
        }
      ]
    },
    {
      "cell_type": "code",
      "metadata": {
        "id": "L6CDnWH-3eR9",
        "colab": {
          "base_uri": "https://localhost:8080/",
          "height": 390
        },
        "outputId": "f65a743f-5697-4c3e-8f0c-983cc196035d"
      },
      "source": [
        "pd.value_counts(train['Sentiment']).plot.bar()\n",
        "plt.title('Sentiment Classification')\n",
        "plt.xlabel('Sentiment')\n",
        "plt.ylabel('Frequency')\n",
        "train['Sentiment'].value_counts()"
      ],
      "execution_count": null,
      "outputs": [
        {
          "output_type": "execute_result",
          "data": {
            "text/plain": [
              "2    79582\n",
              "3    32927\n",
              "1    27273\n",
              "4     9206\n",
              "0     7072\n",
              "Name: Sentiment, dtype: int64"
            ]
          },
          "metadata": {
            "tags": []
          },
          "execution_count": 8
        },
        {
          "output_type": "display_data",
          "data": {
            "image/png": "[encoded data removed]",
            "text/plain": [
              "<Figure size 432x288 with 1 Axes>"
            ]
          },
          "metadata": {
            "tags": [],
            "needs_background": "light"
          }
        }
      ]
    },
    {
      "cell_type": "code",
      "metadata": {
        "id": "pyMC6M7nX5Lo",
        "colab": {
          "base_uri": "https://localhost:8080/",
          "height": 191
        },
        "outputId": "b98a07ea-523d-490f-ce38-ab35ccf93157"
      },
      "source": [
        "def label_id(id):\n",
        "    label_id_dict = {\n",
        "        0: 'Negative',\n",
        "        1: 'Somewhat Negative',\n",
        "        2: 'Neutral',\n",
        "        3: 'Somewhat Positive',\n",
        "        4: 'Positive'\n",
        "    }\n",
        "    return label_id_dict[id]\n",
        "train['Sentiment Label'] = list(map(label_id, train['Sentiment']))\n",
        "train.head()"
      ],
      "execution_count": null,
      "outputs": [
        {
          "output_type": "execute_result",
          "data": {
            "text/html": [
              "<div>\n",
              "<style scoped>\n",
              "    .dataframe tbody tr th:only-of-type {\n",
              "        vertical-align: middle;\n",
              "    }\n",
              "\n",
              "    .dataframe tbody tr th {\n",
              "        vertical-align: top;\n",
              "    }\n",
              "\n",
              "    .dataframe thead th {\n",
              "        text-align: right;\n",
              "    }\n",
              "</style>\n",
              "<table border=\"1\" class=\"dataframe\">\n",
              "  <thead>\n",
              "    <tr style=\"text-align: right;\">\n",
              "      <th></th>\n",
              "      <th>PhraseId</th>\n",
              "      <th>SentenceId</th>\n",
              "      <th>Phrase</th>\n",
              "      <th>Sentiment</th>\n",
              "      <th>Sentiment Label</th>\n",
              "    </tr>\n",
              "  </thead>\n",
              "  <tbody>\n",
              "    <tr>\n",
              "      <th>0</th>\n",
              "      <td>1</td>\n",
              "      <td>1</td>\n",
              "      <td>A series of escapades demonstrating the adage ...</td>\n",
              "      <td>1</td>\n",
              "      <td>Somewhat Negative</td>\n",
              "    </tr>\n",
              "    <tr>\n",
              "      <th>1</th>\n",
              "      <td>2</td>\n",
              "      <td>1</td>\n",
              "      <td>A series of escapades demonstrating the adage ...</td>\n",
              "      <td>2</td>\n",
              "      <td>Neutral</td>\n",
              "    </tr>\n",
              "    <tr>\n",
              "      <th>2</th>\n",
              "      <td>3</td>\n",
              "      <td>1</td>\n",
              "      <td>A series</td>\n",
              "      <td>2</td>\n",
              "      <td>Neutral</td>\n",
              "    </tr>\n",
              "    <tr>\n",
              "      <th>3</th>\n",
              "      <td>4</td>\n",
              "      <td>1</td>\n",
              "      <td>A</td>\n",
              "      <td>2</td>\n",
              "      <td>Neutral</td>\n",
              "    </tr>\n",
              "    <tr>\n",
              "      <th>4</th>\n",
              "      <td>5</td>\n",
              "      <td>1</td>\n",
              "      <td>series</td>\n",
              "      <td>2</td>\n",
              "      <td>Neutral</td>\n",
              "    </tr>\n",
              "  </tbody>\n",
              "</table>\n",
              "</div>"
            ],
            "text/plain": [
              "   PhraseId  SentenceId  ... Sentiment    Sentiment Label\n",
              "0         1           1  ...         1  Somewhat Negative\n",
              "1         2           1  ...         2            Neutral\n",
              "2         3           1  ...         2            Neutral\n",
              "3         4           1  ...         2            Neutral\n",
              "4         5           1  ...         2            Neutral\n",
              "\n",
              "[5 rows x 5 columns]"
            ]
          },
          "metadata": {
            "tags": []
          },
          "execution_count": 9
        }
      ]
    },
    {
      "cell_type": "code",
      "metadata": {
        "id": "jYguCXG5aNXR",
        "colab": {
          "base_uri": "https://localhost:8080/"
        },
        "outputId": "de9c2a91-d164-4c5a-e92a-b3c0473137c6"
      },
      "source": [
        "#to summarise the distribution of sentiment class\n",
        "train[\"Sentiment Label\"].value_counts()"
      ],
      "execution_count": null,
      "outputs": [
        {
          "output_type": "execute_result",
          "data": {
            "text/plain": [
              "Neutral              79582\n",
              "Somewhat Positive    32927\n",
              "Somewhat Negative    27273\n",
              "Positive              9206\n",
              "Negative              7072\n",
              "Name: Sentiment Label, dtype: int64"
            ]
          },
          "metadata": {
            "tags": []
          },
          "execution_count": 10
        }
      ]
    },
    {
      "cell_type": "code",
      "metadata": {
        "id": "g6OheAjCbFDn",
        "colab": {
          "base_uri": "https://localhost:8080/",
          "height": 265
        },
        "outputId": "4edaf25b-b9b6-4f57-a6e0-753e07c13062"
      },
      "source": [
        "plt.hist(train['Sentiment Label'])\n",
        "plt.show()"
      ],
      "execution_count": null,
      "outputs": [
        {
          "output_type": "display_data",
          "data": {
            "image/png": "[encoded data removed]",
            "text/plain": [
              "<Figure size 432x288 with 1 Axes>"
            ]
          },
          "metadata": {
            "tags": [],
            "needs_background": "light"
          }
        }
      ]
    },
    {
      "cell_type": "code",
      "metadata": {
        "id": "isis1z9fZs_K",
        "colab": {
          "base_uri": "https://localhost:8080/",
          "height": 391
        },
        "outputId": "5cd41901-3160-4398-a671-9467f018a7ad"
      },
      "source": [
        "#investigating full phrase sentences and their sentiment label by removing duplicate sentence IDs\n",
        "analysetrain = train.drop_duplicates(subset=['SentenceId'])\n",
        "analysetrain"
      ],
      "execution_count": null,
      "outputs": [
        {
          "output_type": "execute_result",
          "data": {
            "text/html": [
              "<div>\n",
              "<style scoped>\n",
              "    .dataframe tbody tr th:only-of-type {\n",
              "        vertical-align: middle;\n",
              "    }\n",
              "\n",
              "    .dataframe tbody tr th {\n",
              "        vertical-align: top;\n",
              "    }\n",
              "\n",
              "    .dataframe thead th {\n",
              "        text-align: right;\n",
              "    }\n",
              "</style>\n",
              "<table border=\"1\" class=\"dataframe\">\n",
              "  <thead>\n",
              "    <tr style=\"text-align: right;\">\n",
              "      <th></th>\n",
              "      <th>PhraseId</th>\n",
              "      <th>SentenceId</th>\n",
              "      <th>Phrase</th>\n",
              "      <th>Sentiment</th>\n",
              "      <th>Sentiment Label</th>\n",
              "    </tr>\n",
              "  </thead>\n",
              "  <tbody>\n",
              "    <tr>\n",
              "      <th>0</th>\n",
              "      <td>1</td>\n",
              "      <td>1</td>\n",
              "      <td>A series of escapades demonstrating the adage ...</td>\n",
              "      <td>1</td>\n",
              "      <td>Somewhat Negative</td>\n",
              "    </tr>\n",
              "    <tr>\n",
              "      <th>63</th>\n",
              "      <td>64</td>\n",
              "      <td>2</td>\n",
              "      <td>This quiet , introspective and entertaining in...</td>\n",
              "      <td>4</td>\n",
              "      <td>Positive</td>\n",
              "    </tr>\n",
              "    <tr>\n",
              "      <th>81</th>\n",
              "      <td>82</td>\n",
              "      <td>3</td>\n",
              "      <td>Even fans of Ismail Merchant 's work , I suspe...</td>\n",
              "      <td>1</td>\n",
              "      <td>Somewhat Negative</td>\n",
              "    </tr>\n",
              "    <tr>\n",
              "      <th>116</th>\n",
              "      <td>117</td>\n",
              "      <td>4</td>\n",
              "      <td>A positively thrilling combination of ethnogra...</td>\n",
              "      <td>3</td>\n",
              "      <td>Somewhat Positive</td>\n",
              "    </tr>\n",
              "    <tr>\n",
              "      <th>156</th>\n",
              "      <td>157</td>\n",
              "      <td>5</td>\n",
              "      <td>Aggressive self-glorification and a manipulati...</td>\n",
              "      <td>1</td>\n",
              "      <td>Somewhat Negative</td>\n",
              "    </tr>\n",
              "    <tr>\n",
              "      <th>...</th>\n",
              "      <td>...</td>\n",
              "      <td>...</td>\n",
              "      <td>...</td>\n",
              "      <td>...</td>\n",
              "      <td>...</td>\n",
              "    </tr>\n",
              "    <tr>\n",
              "      <th>155984</th>\n",
              "      <td>155985</td>\n",
              "      <td>8540</td>\n",
              "      <td>... either you 're willing to go with this cla...</td>\n",
              "      <td>2</td>\n",
              "      <td>Neutral</td>\n",
              "    </tr>\n",
              "    <tr>\n",
              "      <th>155997</th>\n",
              "      <td>155998</td>\n",
              "      <td>8541</td>\n",
              "      <td>Despite these annoyances , the capable Claybur...</td>\n",
              "      <td>2</td>\n",
              "      <td>Neutral</td>\n",
              "    </tr>\n",
              "    <tr>\n",
              "      <th>156021</th>\n",
              "      <td>156022</td>\n",
              "      <td>8542</td>\n",
              "      <td>-LRB- Tries -RRB- to parody a genre that 's al...</td>\n",
              "      <td>1</td>\n",
              "      <td>Somewhat Negative</td>\n",
              "    </tr>\n",
              "    <tr>\n",
              "      <th>156031</th>\n",
              "      <td>156032</td>\n",
              "      <td>8543</td>\n",
              "      <td>The movie 's downfall is to substitute plot fo...</td>\n",
              "      <td>1</td>\n",
              "      <td>Somewhat Negative</td>\n",
              "    </tr>\n",
              "    <tr>\n",
              "      <th>156039</th>\n",
              "      <td>156040</td>\n",
              "      <td>8544</td>\n",
              "      <td>The film is darkly atmospheric , with Herrmann...</td>\n",
              "      <td>2</td>\n",
              "      <td>Neutral</td>\n",
              "    </tr>\n",
              "  </tbody>\n",
              "</table>\n",
              "<p>8529 rows × 5 columns</p>\n",
              "</div>"
            ],
            "text/plain": [
              "        PhraseId  SentenceId  ... Sentiment    Sentiment Label\n",
              "0              1           1  ...         1  Somewhat Negative\n",
              "63            64           2  ...         4           Positive\n",
              "81            82           3  ...         1  Somewhat Negative\n",
              "116          117           4  ...         3  Somewhat Positive\n",
              "156          157           5  ...         1  Somewhat Negative\n",
              "...          ...         ...  ...       ...                ...\n",
              "155984    155985        8540  ...         2            Neutral\n",
              "155997    155998        8541  ...         2            Neutral\n",
              "156021    156022        8542  ...         1  Somewhat Negative\n",
              "156031    156032        8543  ...         1  Somewhat Negative\n",
              "156039    156040        8544  ...         2            Neutral\n",
              "\n",
              "[8529 rows x 5 columns]"
            ]
          },
          "metadata": {
            "tags": []
          },
          "execution_count": 12
        }
      ]
    },
    {
      "cell_type": "code",
      "metadata": {
        "id": "Vbviv3T2tV2h"
      },
      "source": [
        "## creating unique dataframes for each sentiment label to plot histograms of phrase length and explore text attributed to each sentiment\n",
        "pos = analysetrain.loc[analysetrain['Sentiment'] == 4] #selecting data catalogued  as having a positive sentiment\n",
        "positive = pd.DataFrame(pos) #converting this slice to a dataframe\n",
        "neg = analysetrain.loc[analysetrain['Sentiment'] == 0]\n",
        "negative = pd.DataFrame(neg)\n",
        "neu = analysetrain.loc[analysetrain['Sentiment'] == 2]\n",
        "neutral = pd.DataFrame(neu)\n",
        "swneg = analysetrain.loc[analysetrain['Sentiment'] == 1]\n",
        "somewhatneg = pd.DataFrame(swneg)\n",
        "swpos = analysetrain.loc[analysetrain['Sentiment'] == 3]\n",
        "somewhatpos = pd.DataFrame(swpos)"
      ],
      "execution_count": null,
      "outputs": []
    },
    {
      "cell_type": "code",
      "metadata": {
        "id": "r7DJUpNX_IQC",
        "colab": {
          "base_uri": "https://localhost:8080/",
          "height": 391
        },
        "outputId": "09c8b0ed-927b-41d0-e67c-fc0d326e6e12"
      },
      "source": [
        "pos"
      ],
      "execution_count": null,
      "outputs": [
        {
          "output_type": "execute_result",
          "data": {
            "text/html": [
              "<div>\n",
              "<style scoped>\n",
              "    .dataframe tbody tr th:only-of-type {\n",
              "        vertical-align: middle;\n",
              "    }\n",
              "\n",
              "    .dataframe tbody tr th {\n",
              "        vertical-align: top;\n",
              "    }\n",
              "\n",
              "    .dataframe thead th {\n",
              "        text-align: right;\n",
              "    }\n",
              "</style>\n",
              "<table border=\"1\" class=\"dataframe\">\n",
              "  <thead>\n",
              "    <tr style=\"text-align: right;\">\n",
              "      <th></th>\n",
              "      <th>PhraseId</th>\n",
              "      <th>SentenceId</th>\n",
              "      <th>Phrase</th>\n",
              "      <th>Sentiment</th>\n",
              "      <th>Sentiment Label</th>\n",
              "    </tr>\n",
              "  </thead>\n",
              "  <tbody>\n",
              "    <tr>\n",
              "      <th>63</th>\n",
              "      <td>64</td>\n",
              "      <td>2</td>\n",
              "      <td>This quiet , introspective and entertaining in...</td>\n",
              "      <td>4</td>\n",
              "      <td>Positive</td>\n",
              "    </tr>\n",
              "    <tr>\n",
              "      <th>166</th>\n",
              "      <td>167</td>\n",
              "      <td>6</td>\n",
              "      <td>A comedy-drama of nearly epic proportions root...</td>\n",
              "      <td>4</td>\n",
              "      <td>Positive</td>\n",
              "    </tr>\n",
              "    <tr>\n",
              "      <th>352</th>\n",
              "      <td>353</td>\n",
              "      <td>13</td>\n",
              "      <td>The performances are an absolute joy .</td>\n",
              "      <td>4</td>\n",
              "      <td>Positive</td>\n",
              "    </tr>\n",
              "    <tr>\n",
              "      <th>551</th>\n",
              "      <td>552</td>\n",
              "      <td>21</td>\n",
              "      <td>Best indie of the year , so far .</td>\n",
              "      <td>4</td>\n",
              "      <td>Positive</td>\n",
              "    </tr>\n",
              "    <tr>\n",
              "      <th>1164</th>\n",
              "      <td>1165</td>\n",
              "      <td>43</td>\n",
              "      <td>If a horror movie 's primary goal is to fright...</td>\n",
              "      <td>4</td>\n",
              "      <td>Positive</td>\n",
              "    </tr>\n",
              "    <tr>\n",
              "      <th>...</th>\n",
              "      <td>...</td>\n",
              "      <td>...</td>\n",
              "      <td>...</td>\n",
              "      <td>...</td>\n",
              "      <td>...</td>\n",
              "    </tr>\n",
              "    <tr>\n",
              "      <th>155325</th>\n",
              "      <td>155326</td>\n",
              "      <td>8502</td>\n",
              "      <td>Mike Leigh populates his movie with a wonderfu...</td>\n",
              "      <td>4</td>\n",
              "      <td>Positive</td>\n",
              "    </tr>\n",
              "    <tr>\n",
              "      <th>155527</th>\n",
              "      <td>155528</td>\n",
              "      <td>8513</td>\n",
              "      <td>A gracious , eloquent film that by its end off...</td>\n",
              "      <td>4</td>\n",
              "      <td>Positive</td>\n",
              "    </tr>\n",
              "    <tr>\n",
              "      <th>155570</th>\n",
              "      <td>155571</td>\n",
              "      <td>8515</td>\n",
              "      <td>It 's the kind of movie that , aside from Robe...</td>\n",
              "      <td>4</td>\n",
              "      <td>Positive</td>\n",
              "    </tr>\n",
              "    <tr>\n",
              "      <th>155593</th>\n",
              "      <td>155594</td>\n",
              "      <td>8516</td>\n",
              "      <td>Williams creates a stunning , Taxi Driver-esqu...</td>\n",
              "      <td>4</td>\n",
              "      <td>Positive</td>\n",
              "    </tr>\n",
              "    <tr>\n",
              "      <th>155699</th>\n",
              "      <td>155700</td>\n",
              "      <td>8522</td>\n",
              "      <td>Exhilarating , funny and fun .</td>\n",
              "      <td>4</td>\n",
              "      <td>Positive</td>\n",
              "    </tr>\n",
              "  </tbody>\n",
              "</table>\n",
              "<p>1281 rows × 5 columns</p>\n",
              "</div>"
            ],
            "text/plain": [
              "        PhraseId  SentenceId  ... Sentiment  Sentiment Label\n",
              "63            64           2  ...         4         Positive\n",
              "166          167           6  ...         4         Positive\n",
              "352          353          13  ...         4         Positive\n",
              "551          552          21  ...         4         Positive\n",
              "1164        1165          43  ...         4         Positive\n",
              "...          ...         ...  ...       ...              ...\n",
              "155325    155326        8502  ...         4         Positive\n",
              "155527    155528        8513  ...         4         Positive\n",
              "155570    155571        8515  ...         4         Positive\n",
              "155593    155594        8516  ...         4         Positive\n",
              "155699    155700        8522  ...         4         Positive\n",
              "\n",
              "[1281 rows x 5 columns]"
            ]
          },
          "metadata": {
            "tags": []
          },
          "execution_count": 14
        }
      ]
    },
    {
      "cell_type": "code",
      "metadata": {
        "id": "gzmxqw9I_W9t",
        "colab": {
          "base_uri": "https://localhost:8080/",
          "height": 391
        },
        "outputId": "18d6f371-6e3e-454d-f557-a347e3c7d9bc"
      },
      "source": [
        "neg"
      ],
      "execution_count": null,
      "outputs": [
        {
          "output_type": "execute_result",
          "data": {
            "text/html": [
              "<div>\n",
              "<style scoped>\n",
              "    .dataframe tbody tr th:only-of-type {\n",
              "        vertical-align: middle;\n",
              "    }\n",
              "\n",
              "    .dataframe tbody tr th {\n",
              "        vertical-align: top;\n",
              "    }\n",
              "\n",
              "    .dataframe thead th {\n",
              "        text-align: right;\n",
              "    }\n",
              "</style>\n",
              "<table border=\"1\" class=\"dataframe\">\n",
              "  <thead>\n",
              "    <tr style=\"text-align: right;\">\n",
              "      <th></th>\n",
              "      <th>PhraseId</th>\n",
              "      <th>SentenceId</th>\n",
              "      <th>Phrase</th>\n",
              "      <th>Sentiment</th>\n",
              "      <th>Sentiment Label</th>\n",
              "    </tr>\n",
              "  </thead>\n",
              "  <tbody>\n",
              "    <tr>\n",
              "      <th>848</th>\n",
              "      <td>849</td>\n",
              "      <td>32</td>\n",
              "      <td>Hampered -- no , paralyzed -- by a self-indulg...</td>\n",
              "      <td>0</td>\n",
              "      <td>Negative</td>\n",
              "    </tr>\n",
              "    <tr>\n",
              "      <th>1023</th>\n",
              "      <td>1024</td>\n",
              "      <td>38</td>\n",
              "      <td>The movie 's progression into rambling incoher...</td>\n",
              "      <td>0</td>\n",
              "      <td>Negative</td>\n",
              "    </tr>\n",
              "    <tr>\n",
              "      <th>1099</th>\n",
              "      <td>1100</td>\n",
              "      <td>41</td>\n",
              "      <td>Tartakovsky 's team has some freakish powers o...</td>\n",
              "      <td>0</td>\n",
              "      <td>Negative</td>\n",
              "    </tr>\n",
              "    <tr>\n",
              "      <th>1445</th>\n",
              "      <td>1446</td>\n",
              "      <td>53</td>\n",
              "      <td>Thanks largely to Williams , all the interesti...</td>\n",
              "      <td>0</td>\n",
              "      <td>Negative</td>\n",
              "    </tr>\n",
              "    <tr>\n",
              "      <th>1479</th>\n",
              "      <td>1480</td>\n",
              "      <td>54</td>\n",
              "      <td>Comes across as a relic from a bygone era , an...</td>\n",
              "      <td>0</td>\n",
              "      <td>Negative</td>\n",
              "    </tr>\n",
              "    <tr>\n",
              "      <th>...</th>\n",
              "      <td>...</td>\n",
              "      <td>...</td>\n",
              "      <td>...</td>\n",
              "      <td>...</td>\n",
              "      <td>...</td>\n",
              "    </tr>\n",
              "    <tr>\n",
              "      <th>155175</th>\n",
              "      <td>155176</td>\n",
              "      <td>8495</td>\n",
              "      <td>Disgusting .</td>\n",
              "      <td>0</td>\n",
              "      <td>Negative</td>\n",
              "    </tr>\n",
              "    <tr>\n",
              "      <th>155277</th>\n",
              "      <td>155278</td>\n",
              "      <td>8500</td>\n",
              "      <td>Crossroads feels like a teenybopper Ed Wood fi...</td>\n",
              "      <td>0</td>\n",
              "      <td>Negative</td>\n",
              "    </tr>\n",
              "    <tr>\n",
              "      <th>155427</th>\n",
              "      <td>155428</td>\n",
              "      <td>8508</td>\n",
              "      <td>As exciting as all this exoticism might sound ...</td>\n",
              "      <td>0</td>\n",
              "      <td>Negative</td>\n",
              "    </tr>\n",
              "    <tr>\n",
              "      <th>155556</th>\n",
              "      <td>155557</td>\n",
              "      <td>8514</td>\n",
              "      <td>Every conceivable mistake a director could mak...</td>\n",
              "      <td>0</td>\n",
              "      <td>Negative</td>\n",
              "    </tr>\n",
              "    <tr>\n",
              "      <th>155963</th>\n",
              "      <td>155964</td>\n",
              "      <td>8539</td>\n",
              "      <td>The French director has turned out nearly 21\\/...</td>\n",
              "      <td>0</td>\n",
              "      <td>Negative</td>\n",
              "    </tr>\n",
              "  </tbody>\n",
              "</table>\n",
              "<p>1072 rows × 5 columns</p>\n",
              "</div>"
            ],
            "text/plain": [
              "        PhraseId  SentenceId  ... Sentiment  Sentiment Label\n",
              "848          849          32  ...         0         Negative\n",
              "1023        1024          38  ...         0         Negative\n",
              "1099        1100          41  ...         0         Negative\n",
              "1445        1446          53  ...         0         Negative\n",
              "1479        1480          54  ...         0         Negative\n",
              "...          ...         ...  ...       ...              ...\n",
              "155175    155176        8495  ...         0         Negative\n",
              "155277    155278        8500  ...         0         Negative\n",
              "155427    155428        8508  ...         0         Negative\n",
              "155556    155557        8514  ...         0         Negative\n",
              "155963    155964        8539  ...         0         Negative\n",
              "\n",
              "[1072 rows x 5 columns]"
            ]
          },
          "metadata": {
            "tags": []
          },
          "execution_count": 15
        }
      ]
    },
    {
      "cell_type": "code",
      "metadata": {
        "id": "t7sHQcDU_HHj",
        "colab": {
          "base_uri": "https://localhost:8080/",
          "height": 391
        },
        "outputId": "0ddd2de1-fdb7-46c7-d65a-079b819624fd"
      },
      "source": [
        "neu"
      ],
      "execution_count": null,
      "outputs": [
        {
          "output_type": "execute_result",
          "data": {
            "text/html": [
              "<div>\n",
              "<style scoped>\n",
              "    .dataframe tbody tr th:only-of-type {\n",
              "        vertical-align: middle;\n",
              "    }\n",
              "\n",
              "    .dataframe tbody tr th {\n",
              "        vertical-align: top;\n",
              "    }\n",
              "\n",
              "    .dataframe thead th {\n",
              "        text-align: right;\n",
              "    }\n",
              "</style>\n",
              "<table border=\"1\" class=\"dataframe\">\n",
              "  <thead>\n",
              "    <tr style=\"text-align: right;\">\n",
              "      <th></th>\n",
              "      <th>PhraseId</th>\n",
              "      <th>SentenceId</th>\n",
              "      <th>Phrase</th>\n",
              "      <th>Sentiment</th>\n",
              "      <th>Sentiment Label</th>\n",
              "    </tr>\n",
              "  </thead>\n",
              "  <tbody>\n",
              "    <tr>\n",
              "      <th>473</th>\n",
              "      <td>474</td>\n",
              "      <td>18</td>\n",
              "      <td>Like a less dizzily gorgeous companion to Mr. ...</td>\n",
              "      <td>2</td>\n",
              "      <td>Neutral</td>\n",
              "    </tr>\n",
              "    <tr>\n",
              "      <th>536</th>\n",
              "      <td>537</td>\n",
              "      <td>20</td>\n",
              "      <td>It 's everything you 'd expect -- but nothing ...</td>\n",
              "      <td>2</td>\n",
              "      <td>Neutral</td>\n",
              "    </tr>\n",
              "    <tr>\n",
              "      <th>647</th>\n",
              "      <td>648</td>\n",
              "      <td>24</td>\n",
              "      <td>That the Chuck Norris `` grenade gag '' occurs...</td>\n",
              "      <td>2</td>\n",
              "      <td>Neutral</td>\n",
              "    </tr>\n",
              "    <tr>\n",
              "      <th>686</th>\n",
              "      <td>687</td>\n",
              "      <td>25</td>\n",
              "      <td>The plot is romantic comedy boilerplate from s...</td>\n",
              "      <td>2</td>\n",
              "      <td>Neutral</td>\n",
              "    </tr>\n",
              "    <tr>\n",
              "      <th>702</th>\n",
              "      <td>703</td>\n",
              "      <td>26</td>\n",
              "      <td>It arrives with an impeccable pedigree , mongr...</td>\n",
              "      <td>2</td>\n",
              "      <td>Neutral</td>\n",
              "    </tr>\n",
              "    <tr>\n",
              "      <th>...</th>\n",
              "      <td>...</td>\n",
              "      <td>...</td>\n",
              "      <td>...</td>\n",
              "      <td>...</td>\n",
              "      <td>...</td>\n",
              "    </tr>\n",
              "    <tr>\n",
              "      <th>155764</th>\n",
              "      <td>155765</td>\n",
              "      <td>8526</td>\n",
              "      <td>The Santa Clause 2 is a barely adequate babysi...</td>\n",
              "      <td>2</td>\n",
              "      <td>Neutral</td>\n",
              "    </tr>\n",
              "    <tr>\n",
              "      <th>155836</th>\n",
              "      <td>155837</td>\n",
              "      <td>8531</td>\n",
              "      <td>Even if you have no interest in the gang-infes...</td>\n",
              "      <td>2</td>\n",
              "      <td>Neutral</td>\n",
              "    </tr>\n",
              "    <tr>\n",
              "      <th>155984</th>\n",
              "      <td>155985</td>\n",
              "      <td>8540</td>\n",
              "      <td>... either you 're willing to go with this cla...</td>\n",
              "      <td>2</td>\n",
              "      <td>Neutral</td>\n",
              "    </tr>\n",
              "    <tr>\n",
              "      <th>155997</th>\n",
              "      <td>155998</td>\n",
              "      <td>8541</td>\n",
              "      <td>Despite these annoyances , the capable Claybur...</td>\n",
              "      <td>2</td>\n",
              "      <td>Neutral</td>\n",
              "    </tr>\n",
              "    <tr>\n",
              "      <th>156039</th>\n",
              "      <td>156040</td>\n",
              "      <td>8544</td>\n",
              "      <td>The film is darkly atmospheric , with Herrmann...</td>\n",
              "      <td>2</td>\n",
              "      <td>Neutral</td>\n",
              "    </tr>\n",
              "  </tbody>\n",
              "</table>\n",
              "<p>1655 rows × 5 columns</p>\n",
              "</div>"
            ],
            "text/plain": [
              "        PhraseId  SentenceId  ... Sentiment  Sentiment Label\n",
              "473          474          18  ...         2          Neutral\n",
              "536          537          20  ...         2          Neutral\n",
              "647          648          24  ...         2          Neutral\n",
              "686          687          25  ...         2          Neutral\n",
              "702          703          26  ...         2          Neutral\n",
              "...          ...         ...  ...       ...              ...\n",
              "155764    155765        8526  ...         2          Neutral\n",
              "155836    155837        8531  ...         2          Neutral\n",
              "155984    155985        8540  ...         2          Neutral\n",
              "155997    155998        8541  ...         2          Neutral\n",
              "156039    156040        8544  ...         2          Neutral\n",
              "\n",
              "[1655 rows x 5 columns]"
            ]
          },
          "metadata": {
            "tags": []
          },
          "execution_count": 16
        }
      ]
    },
    {
      "cell_type": "code",
      "metadata": {
        "id": "KtekMIyO_QgQ",
        "colab": {
          "base_uri": "https://localhost:8080/",
          "height": 391
        },
        "outputId": "3292f2ed-a7d5-4ad4-c9d7-fbbdcd34bcdd"
      },
      "source": [
        "swpos"
      ],
      "execution_count": null,
      "outputs": [
        {
          "output_type": "execute_result",
          "data": {
            "text/html": [
              "<div>\n",
              "<style scoped>\n",
              "    .dataframe tbody tr th:only-of-type {\n",
              "        vertical-align: middle;\n",
              "    }\n",
              "\n",
              "    .dataframe tbody tr th {\n",
              "        vertical-align: top;\n",
              "    }\n",
              "\n",
              "    .dataframe thead th {\n",
              "        text-align: right;\n",
              "    }\n",
              "</style>\n",
              "<table border=\"1\" class=\"dataframe\">\n",
              "  <thead>\n",
              "    <tr style=\"text-align: right;\">\n",
              "      <th></th>\n",
              "      <th>PhraseId</th>\n",
              "      <th>SentenceId</th>\n",
              "      <th>Phrase</th>\n",
              "      <th>Sentiment</th>\n",
              "      <th>Sentiment Label</th>\n",
              "    </tr>\n",
              "  </thead>\n",
              "  <tbody>\n",
              "    <tr>\n",
              "      <th>116</th>\n",
              "      <td>117</td>\n",
              "      <td>4</td>\n",
              "      <td>A positively thrilling combination of ethnogra...</td>\n",
              "      <td>3</td>\n",
              "      <td>Somewhat Positive</td>\n",
              "    </tr>\n",
              "    <tr>\n",
              "      <th>213</th>\n",
              "      <td>214</td>\n",
              "      <td>8</td>\n",
              "      <td>The Importance of Being Earnest , so thick wit...</td>\n",
              "      <td>3</td>\n",
              "      <td>Somewhat Positive</td>\n",
              "    </tr>\n",
              "    <tr>\n",
              "      <th>363</th>\n",
              "      <td>364</td>\n",
              "      <td>14</td>\n",
              "      <td>Fresnadillo has something serious to say about...</td>\n",
              "      <td>3</td>\n",
              "      <td>Somewhat Positive</td>\n",
              "    </tr>\n",
              "    <tr>\n",
              "      <th>407</th>\n",
              "      <td>408</td>\n",
              "      <td>15</td>\n",
              "      <td>I still like Moonlight Mile , better judgment ...</td>\n",
              "      <td>3</td>\n",
              "      <td>Somewhat Positive</td>\n",
              "    </tr>\n",
              "    <tr>\n",
              "      <th>423</th>\n",
              "      <td>424</td>\n",
              "      <td>16</td>\n",
              "      <td>A welcome relief from baseball movies that try...</td>\n",
              "      <td>3</td>\n",
              "      <td>Somewhat Positive</td>\n",
              "    </tr>\n",
              "    <tr>\n",
              "      <th>...</th>\n",
              "      <td>...</td>\n",
              "      <td>...</td>\n",
              "      <td>...</td>\n",
              "      <td>...</td>\n",
              "      <td>...</td>\n",
              "    </tr>\n",
              "    <tr>\n",
              "      <th>155802</th>\n",
              "      <td>155803</td>\n",
              "      <td>8528</td>\n",
              "      <td>It makes you believe the cast and crew thoroug...</td>\n",
              "      <td>3</td>\n",
              "      <td>Somewhat Positive</td>\n",
              "    </tr>\n",
              "    <tr>\n",
              "      <th>155818</th>\n",
              "      <td>155819</td>\n",
              "      <td>8529</td>\n",
              "      <td>The underworld urban angst is derivative of Ma...</td>\n",
              "      <td>3</td>\n",
              "      <td>Somewhat Positive</td>\n",
              "    </tr>\n",
              "    <tr>\n",
              "      <th>155876</th>\n",
              "      <td>155877</td>\n",
              "      <td>8533</td>\n",
              "      <td>Proves a servicable World War II drama that ca...</td>\n",
              "      <td>3</td>\n",
              "      <td>Somewhat Positive</td>\n",
              "    </tr>\n",
              "    <tr>\n",
              "      <th>155930</th>\n",
              "      <td>155931</td>\n",
              "      <td>8537</td>\n",
              "      <td>Definitely in the guilty pleasure B-movie cate...</td>\n",
              "      <td>3</td>\n",
              "      <td>Somewhat Positive</td>\n",
              "    </tr>\n",
              "    <tr>\n",
              "      <th>155949</th>\n",
              "      <td>155950</td>\n",
              "      <td>8538</td>\n",
              "      <td>It 's an experience in understanding a unique ...</td>\n",
              "      <td>3</td>\n",
              "      <td>Somewhat Positive</td>\n",
              "    </tr>\n",
              "  </tbody>\n",
              "</table>\n",
              "<p>2321 rows × 5 columns</p>\n",
              "</div>"
            ],
            "text/plain": [
              "        PhraseId  SentenceId  ... Sentiment    Sentiment Label\n",
              "116          117           4  ...         3  Somewhat Positive\n",
              "213          214           8  ...         3  Somewhat Positive\n",
              "363          364          14  ...         3  Somewhat Positive\n",
              "407          408          15  ...         3  Somewhat Positive\n",
              "423          424          16  ...         3  Somewhat Positive\n",
              "...          ...         ...  ...       ...                ...\n",
              "155802    155803        8528  ...         3  Somewhat Positive\n",
              "155818    155819        8529  ...         3  Somewhat Positive\n",
              "155876    155877        8533  ...         3  Somewhat Positive\n",
              "155930    155931        8537  ...         3  Somewhat Positive\n",
              "155949    155950        8538  ...         3  Somewhat Positive\n",
              "\n",
              "[2321 rows x 5 columns]"
            ]
          },
          "metadata": {
            "tags": []
          },
          "execution_count": 17
        }
      ]
    },
    {
      "cell_type": "code",
      "metadata": {
        "id": "DMqCSajY_Or9",
        "colab": {
          "base_uri": "https://localhost:8080/",
          "height": 391
        },
        "outputId": "8d5370f4-41b5-49b5-80a8-656e2f47476c"
      },
      "source": [
        "swneg"
      ],
      "execution_count": null,
      "outputs": [
        {
          "output_type": "execute_result",
          "data": {
            "text/html": [
              "<div>\n",
              "<style scoped>\n",
              "    .dataframe tbody tr th:only-of-type {\n",
              "        vertical-align: middle;\n",
              "    }\n",
              "\n",
              "    .dataframe tbody tr th {\n",
              "        vertical-align: top;\n",
              "    }\n",
              "\n",
              "    .dataframe thead th {\n",
              "        text-align: right;\n",
              "    }\n",
              "</style>\n",
              "<table border=\"1\" class=\"dataframe\">\n",
              "  <thead>\n",
              "    <tr style=\"text-align: right;\">\n",
              "      <th></th>\n",
              "      <th>PhraseId</th>\n",
              "      <th>SentenceId</th>\n",
              "      <th>Phrase</th>\n",
              "      <th>Sentiment</th>\n",
              "      <th>Sentiment Label</th>\n",
              "    </tr>\n",
              "  </thead>\n",
              "  <tbody>\n",
              "    <tr>\n",
              "      <th>0</th>\n",
              "      <td>1</td>\n",
              "      <td>1</td>\n",
              "      <td>A series of escapades demonstrating the adage ...</td>\n",
              "      <td>1</td>\n",
              "      <td>Somewhat Negative</td>\n",
              "    </tr>\n",
              "    <tr>\n",
              "      <th>81</th>\n",
              "      <td>82</td>\n",
              "      <td>3</td>\n",
              "      <td>Even fans of Ismail Merchant 's work , I suspe...</td>\n",
              "      <td>1</td>\n",
              "      <td>Somewhat Negative</td>\n",
              "    </tr>\n",
              "    <tr>\n",
              "      <th>156</th>\n",
              "      <td>157</td>\n",
              "      <td>5</td>\n",
              "      <td>Aggressive self-glorification and a manipulati...</td>\n",
              "      <td>1</td>\n",
              "      <td>Somewhat Negative</td>\n",
              "    </tr>\n",
              "    <tr>\n",
              "      <th>198</th>\n",
              "      <td>199</td>\n",
              "      <td>7</td>\n",
              "      <td>Narratively , Trouble Every Day is a plodding ...</td>\n",
              "      <td>1</td>\n",
              "      <td>Somewhat Negative</td>\n",
              "    </tr>\n",
              "    <tr>\n",
              "      <th>247</th>\n",
              "      <td>248</td>\n",
              "      <td>9</td>\n",
              "      <td>But it does n't leave you with much .</td>\n",
              "      <td>1</td>\n",
              "      <td>Somewhat Negative</td>\n",
              "    </tr>\n",
              "    <tr>\n",
              "      <th>...</th>\n",
              "      <td>...</td>\n",
              "      <td>...</td>\n",
              "      <td>...</td>\n",
              "      <td>...</td>\n",
              "      <td>...</td>\n",
              "    </tr>\n",
              "    <tr>\n",
              "      <th>155900</th>\n",
              "      <td>155901</td>\n",
              "      <td>8534</td>\n",
              "      <td>This movie ... does n't deserve the energy it ...</td>\n",
              "      <td>1</td>\n",
              "      <td>Somewhat Negative</td>\n",
              "    </tr>\n",
              "    <tr>\n",
              "      <th>155911</th>\n",
              "      <td>155912</td>\n",
              "      <td>8535</td>\n",
              "      <td>In this case zero .</td>\n",
              "      <td>1</td>\n",
              "      <td>Somewhat Negative</td>\n",
              "    </tr>\n",
              "    <tr>\n",
              "      <th>155914</th>\n",
              "      <td>155915</td>\n",
              "      <td>8536</td>\n",
              "      <td>Simply put , there should have been a more com...</td>\n",
              "      <td>1</td>\n",
              "      <td>Somewhat Negative</td>\n",
              "    </tr>\n",
              "    <tr>\n",
              "      <th>156021</th>\n",
              "      <td>156022</td>\n",
              "      <td>8542</td>\n",
              "      <td>-LRB- Tries -RRB- to parody a genre that 's al...</td>\n",
              "      <td>1</td>\n",
              "      <td>Somewhat Negative</td>\n",
              "    </tr>\n",
              "    <tr>\n",
              "      <th>156031</th>\n",
              "      <td>156032</td>\n",
              "      <td>8543</td>\n",
              "      <td>The movie 's downfall is to substitute plot fo...</td>\n",
              "      <td>1</td>\n",
              "      <td>Somewhat Negative</td>\n",
              "    </tr>\n",
              "  </tbody>\n",
              "</table>\n",
              "<p>2200 rows × 5 columns</p>\n",
              "</div>"
            ],
            "text/plain": [
              "        PhraseId  SentenceId  ... Sentiment    Sentiment Label\n",
              "0              1           1  ...         1  Somewhat Negative\n",
              "81            82           3  ...         1  Somewhat Negative\n",
              "156          157           5  ...         1  Somewhat Negative\n",
              "198          199           7  ...         1  Somewhat Negative\n",
              "247          248           9  ...         1  Somewhat Negative\n",
              "...          ...         ...  ...       ...                ...\n",
              "155900    155901        8534  ...         1  Somewhat Negative\n",
              "155911    155912        8535  ...         1  Somewhat Negative\n",
              "155914    155915        8536  ...         1  Somewhat Negative\n",
              "156021    156022        8542  ...         1  Somewhat Negative\n",
              "156031    156032        8543  ...         1  Somewhat Negative\n",
              "\n",
              "[2200 rows x 5 columns]"
            ]
          },
          "metadata": {
            "tags": []
          },
          "execution_count": 18
        }
      ]
    },
    {
      "cell_type": "code",
      "metadata": {
        "id": "XKNMf5jzAXX3",
        "colab": {
          "base_uri": "https://localhost:8080/",
          "height": 281
        },
        "outputId": "ce1bef7d-daa2-4abf-d28d-05ad63e86e5f"
      },
      "source": [
        "#histogram to display length of phrases in negative dataset\n",
        "negative['Phrase'].str.len().hist()"
      ],
      "execution_count": null,
      "outputs": [
        {
          "output_type": "execute_result",
          "data": {
            "text/plain": [
              "<matplotlib.axes._subplots.AxesSubplot at 0x7f45097d4990>"
            ]
          },
          "metadata": {
            "tags": []
          },
          "execution_count": 19
        },
        {
          "output_type": "display_data",
          "data": {
            "image/png": "[encoded data removed]",
            "text/plain": [
              "<Figure size 432x288 with 1 Axes>"
            ]
          },
          "metadata": {
            "tags": [],
            "needs_background": "light"
          }
        }
      ]
    },
    {
      "cell_type": "code",
      "metadata": {
        "id": "yfrcPiXQIDEj",
        "colab": {
          "base_uri": "https://localhost:8080/",
          "height": 281
        },
        "outputId": "f5a5d433-88ea-4436-8614-60dbd095767f"
      },
      "source": [
        "#histogram to display length of phrases in positive dataset\n",
        "positive['Phrase'].str.len().hist()"
      ],
      "execution_count": null,
      "outputs": [
        {
          "output_type": "execute_result",
          "data": {
            "text/plain": [
              "<matplotlib.axes._subplots.AxesSubplot at 0x7f45096f2f50>"
            ]
          },
          "metadata": {
            "tags": []
          },
          "execution_count": 20
        },
        {
          "output_type": "display_data",
          "data": {
            "image/png": "[encoded data removed]",
            "text/plain": [
              "<Figure size 432x288 with 1 Axes>"
            ]
          },
          "metadata": {
            "tags": [],
            "needs_background": "light"
          }
        }
      ]
    },
    {
      "cell_type": "code",
      "metadata": {
        "id": "sYdkMpC4AnAt",
        "colab": {
          "base_uri": "https://localhost:8080/",
          "height": 281
        },
        "outputId": "e23c87a3-0cca-43f3-ccdb-449058fde936"
      },
      "source": [
        "#histogram to display length of phrases in neutral dataset\n",
        "neutral['Phrase'].str.len().hist()"
      ],
      "execution_count": null,
      "outputs": [
        {
          "output_type": "execute_result",
          "data": {
            "text/plain": [
              "<matplotlib.axes._subplots.AxesSubplot at 0x7f4509677650>"
            ]
          },
          "metadata": {
            "tags": []
          },
          "execution_count": 21
        },
        {
          "output_type": "display_data",
          "data": {
            "image/png": "[encoded data removed]",
            "text/plain": [
              "<Figure size 432x288 with 1 Axes>"
            ]
          },
          "metadata": {
            "tags": [],
            "needs_background": "light"
          }
        }
      ]
    },
    {
      "cell_type": "markdown",
      "metadata": {
        "id": "bEQc8Q6QPE-F"
      },
      "source": [
        "## Data Preprocessing"
      ]
    },
    {
      "cell_type": "code",
      "metadata": {
        "id": "_NysA_I2hJFF"
      },
      "source": [
        "#converting strings to lowercase in Phrase column\n",
        "train['Phrase'] = train['Phrase'].str.lower() "
      ],
      "execution_count": null,
      "outputs": []
    },
    {
      "cell_type": "code",
      "metadata": {
        "id": "XzTjTPearUzt",
        "colab": {
          "base_uri": "https://localhost:8080/",
          "height": 423
        },
        "outputId": "d407c637-f2df-49ce-e288-217f30e14ddb"
      },
      "source": [
        "#preprocessing Phrases column of dataframe \n",
        "\n",
        "nltk.download('stopwords')\n",
        "from nltk.corpus import stopwords \n",
        "import re\n",
        "stop_words = set(stopwords.words('english')) \n",
        "\n",
        "#remove unusual characters and stop words\n",
        "train['Phrase']= train['Phrase'].apply(lambda x: re.sub('[^A-Za-z0-9]+', ' ', x))\n",
        "train['Phrase'] = train['Phrase'].apply(lambda x: \" \".join(x for x in x.split() if x not in stop_words))\n",
        "train"
      ],
      "execution_count": null,
      "outputs": [
        {
          "output_type": "stream",
          "text": [
            "[nltk_data] Downloading package stopwords to /root/nltk_data...\n",
            "[nltk_data]   Package stopwords is already up-to-date!\n"
          ],
          "name": "stdout"
        },
        {
          "output_type": "execute_result",
          "data": {
            "text/html": [
              "<div>\n",
              "<style scoped>\n",
              "    .dataframe tbody tr th:only-of-type {\n",
              "        vertical-align: middle;\n",
              "    }\n",
              "\n",
              "    .dataframe tbody tr th {\n",
              "        vertical-align: top;\n",
              "    }\n",
              "\n",
              "    .dataframe thead th {\n",
              "        text-align: right;\n",
              "    }\n",
              "</style>\n",
              "<table border=\"1\" class=\"dataframe\">\n",
              "  <thead>\n",
              "    <tr style=\"text-align: right;\">\n",
              "      <th></th>\n",
              "      <th>PhraseId</th>\n",
              "      <th>SentenceId</th>\n",
              "      <th>Phrase</th>\n",
              "      <th>Sentiment</th>\n",
              "      <th>Sentiment Label</th>\n",
              "    </tr>\n",
              "  </thead>\n",
              "  <tbody>\n",
              "    <tr>\n",
              "      <th>0</th>\n",
              "      <td>1</td>\n",
              "      <td>1</td>\n",
              "      <td>series escapades demonstrating adage good goos...</td>\n",
              "      <td>1</td>\n",
              "      <td>Somewhat Negative</td>\n",
              "    </tr>\n",
              "    <tr>\n",
              "      <th>1</th>\n",
              "      <td>2</td>\n",
              "      <td>1</td>\n",
              "      <td>series escapades demonstrating adage good goose</td>\n",
              "      <td>2</td>\n",
              "      <td>Neutral</td>\n",
              "    </tr>\n",
              "    <tr>\n",
              "      <th>2</th>\n",
              "      <td>3</td>\n",
              "      <td>1</td>\n",
              "      <td>series</td>\n",
              "      <td>2</td>\n",
              "      <td>Neutral</td>\n",
              "    </tr>\n",
              "    <tr>\n",
              "      <th>3</th>\n",
              "      <td>4</td>\n",
              "      <td>1</td>\n",
              "      <td></td>\n",
              "      <td>2</td>\n",
              "      <td>Neutral</td>\n",
              "    </tr>\n",
              "    <tr>\n",
              "      <th>4</th>\n",
              "      <td>5</td>\n",
              "      <td>1</td>\n",
              "      <td>series</td>\n",
              "      <td>2</td>\n",
              "      <td>Neutral</td>\n",
              "    </tr>\n",
              "    <tr>\n",
              "      <th>...</th>\n",
              "      <td>...</td>\n",
              "      <td>...</td>\n",
              "      <td>...</td>\n",
              "      <td>...</td>\n",
              "      <td>...</td>\n",
              "    </tr>\n",
              "    <tr>\n",
              "      <th>156055</th>\n",
              "      <td>156056</td>\n",
              "      <td>8544</td>\n",
              "      <td>hearst</td>\n",
              "      <td>2</td>\n",
              "      <td>Neutral</td>\n",
              "    </tr>\n",
              "    <tr>\n",
              "      <th>156056</th>\n",
              "      <td>156057</td>\n",
              "      <td>8544</td>\n",
              "      <td>forced avuncular chortles</td>\n",
              "      <td>1</td>\n",
              "      <td>Somewhat Negative</td>\n",
              "    </tr>\n",
              "    <tr>\n",
              "      <th>156057</th>\n",
              "      <td>156058</td>\n",
              "      <td>8544</td>\n",
              "      <td>avuncular chortles</td>\n",
              "      <td>3</td>\n",
              "      <td>Somewhat Positive</td>\n",
              "    </tr>\n",
              "    <tr>\n",
              "      <th>156058</th>\n",
              "      <td>156059</td>\n",
              "      <td>8544</td>\n",
              "      <td>avuncular</td>\n",
              "      <td>2</td>\n",
              "      <td>Neutral</td>\n",
              "    </tr>\n",
              "    <tr>\n",
              "      <th>156059</th>\n",
              "      <td>156060</td>\n",
              "      <td>8544</td>\n",
              "      <td>chortles</td>\n",
              "      <td>2</td>\n",
              "      <td>Neutral</td>\n",
              "    </tr>\n",
              "  </tbody>\n",
              "</table>\n",
              "<p>156060 rows × 5 columns</p>\n",
              "</div>"
            ],
            "text/plain": [
              "        PhraseId  SentenceId  ... Sentiment    Sentiment Label\n",
              "0              1           1  ...         1  Somewhat Negative\n",
              "1              2           1  ...         2            Neutral\n",
              "2              3           1  ...         2            Neutral\n",
              "3              4           1  ...         2            Neutral\n",
              "4              5           1  ...         2            Neutral\n",
              "...          ...         ...  ...       ...                ...\n",
              "156055    156056        8544  ...         2            Neutral\n",
              "156056    156057        8544  ...         1  Somewhat Negative\n",
              "156057    156058        8544  ...         3  Somewhat Positive\n",
              "156058    156059        8544  ...         2            Neutral\n",
              "156059    156060        8544  ...         2            Neutral\n",
              "\n",
              "[156060 rows x 5 columns]"
            ]
          },
          "metadata": {
            "tags": []
          },
          "execution_count": 23
        }
      ]
    },
    {
      "cell_type": "code",
      "metadata": {
        "id": "1VoN0FOSur5f",
        "colab": {
          "base_uri": "https://localhost:8080/",
          "height": 391
        },
        "outputId": "5e4e4b2b-3286-4d25-edda-64372cdc9ab0"
      },
      "source": [
        "#tokenize\n",
        "#from textblob import TextBlob\n",
        "train['Phrase'] = train['Phrase'].str.replace('[^\\w\\s]','')\n",
        "train['Phrase'] = train['Phrase'].apply(word_tokenize)\n",
        "train"
      ],
      "execution_count": null,
      "outputs": [
        {
          "output_type": "execute_result",
          "data": {
            "text/html": [
              "<div>\n",
              "<style scoped>\n",
              "    .dataframe tbody tr th:only-of-type {\n",
              "        vertical-align: middle;\n",
              "    }\n",
              "\n",
              "    .dataframe tbody tr th {\n",
              "        vertical-align: top;\n",
              "    }\n",
              "\n",
              "    .dataframe thead th {\n",
              "        text-align: right;\n",
              "    }\n",
              "</style>\n",
              "<table border=\"1\" class=\"dataframe\">\n",
              "  <thead>\n",
              "    <tr style=\"text-align: right;\">\n",
              "      <th></th>\n",
              "      <th>PhraseId</th>\n",
              "      <th>SentenceId</th>\n",
              "      <th>Phrase</th>\n",
              "      <th>Sentiment</th>\n",
              "      <th>Sentiment Label</th>\n",
              "    </tr>\n",
              "  </thead>\n",
              "  <tbody>\n",
              "    <tr>\n",
              "      <th>0</th>\n",
              "      <td>1</td>\n",
              "      <td>1</td>\n",
              "      <td>[series, escapades, demonstrating, adage, good...</td>\n",
              "      <td>1</td>\n",
              "      <td>Somewhat Negative</td>\n",
              "    </tr>\n",
              "    <tr>\n",
              "      <th>1</th>\n",
              "      <td>2</td>\n",
              "      <td>1</td>\n",
              "      <td>[series, escapades, demonstrating, adage, good...</td>\n",
              "      <td>2</td>\n",
              "      <td>Neutral</td>\n",
              "    </tr>\n",
              "    <tr>\n",
              "      <th>2</th>\n",
              "      <td>3</td>\n",
              "      <td>1</td>\n",
              "      <td>[series]</td>\n",
              "      <td>2</td>\n",
              "      <td>Neutral</td>\n",
              "    </tr>\n",
              "    <tr>\n",
              "      <th>3</th>\n",
              "      <td>4</td>\n",
              "      <td>1</td>\n",
              "      <td>[]</td>\n",
              "      <td>2</td>\n",
              "      <td>Neutral</td>\n",
              "    </tr>\n",
              "    <tr>\n",
              "      <th>4</th>\n",
              "      <td>5</td>\n",
              "      <td>1</td>\n",
              "      <td>[series]</td>\n",
              "      <td>2</td>\n",
              "      <td>Neutral</td>\n",
              "    </tr>\n",
              "    <tr>\n",
              "      <th>...</th>\n",
              "      <td>...</td>\n",
              "      <td>...</td>\n",
              "      <td>...</td>\n",
              "      <td>...</td>\n",
              "      <td>...</td>\n",
              "    </tr>\n",
              "    <tr>\n",
              "      <th>156055</th>\n",
              "      <td>156056</td>\n",
              "      <td>8544</td>\n",
              "      <td>[hearst]</td>\n",
              "      <td>2</td>\n",
              "      <td>Neutral</td>\n",
              "    </tr>\n",
              "    <tr>\n",
              "      <th>156056</th>\n",
              "      <td>156057</td>\n",
              "      <td>8544</td>\n",
              "      <td>[forced, avuncular, chortles]</td>\n",
              "      <td>1</td>\n",
              "      <td>Somewhat Negative</td>\n",
              "    </tr>\n",
              "    <tr>\n",
              "      <th>156057</th>\n",
              "      <td>156058</td>\n",
              "      <td>8544</td>\n",
              "      <td>[avuncular, chortles]</td>\n",
              "      <td>3</td>\n",
              "      <td>Somewhat Positive</td>\n",
              "    </tr>\n",
              "    <tr>\n",
              "      <th>156058</th>\n",
              "      <td>156059</td>\n",
              "      <td>8544</td>\n",
              "      <td>[avuncular]</td>\n",
              "      <td>2</td>\n",
              "      <td>Neutral</td>\n",
              "    </tr>\n",
              "    <tr>\n",
              "      <th>156059</th>\n",
              "      <td>156060</td>\n",
              "      <td>8544</td>\n",
              "      <td>[chortles]</td>\n",
              "      <td>2</td>\n",
              "      <td>Neutral</td>\n",
              "    </tr>\n",
              "  </tbody>\n",
              "</table>\n",
              "<p>156060 rows × 5 columns</p>\n",
              "</div>"
            ],
            "text/plain": [
              "        PhraseId  SentenceId  ... Sentiment    Sentiment Label\n",
              "0              1           1  ...         1  Somewhat Negative\n",
              "1              2           1  ...         2            Neutral\n",
              "2              3           1  ...         2            Neutral\n",
              "3              4           1  ...         2            Neutral\n",
              "4              5           1  ...         2            Neutral\n",
              "...          ...         ...  ...       ...                ...\n",
              "156055    156056        8544  ...         2            Neutral\n",
              "156056    156057        8544  ...         1  Somewhat Negative\n",
              "156057    156058        8544  ...         3  Somewhat Positive\n",
              "156058    156059        8544  ...         2            Neutral\n",
              "156059    156060        8544  ...         2            Neutral\n",
              "\n",
              "[156060 rows x 5 columns]"
            ]
          },
          "metadata": {
            "tags": []
          },
          "execution_count": 24
        }
      ]
    },
    {
      "cell_type": "code",
      "metadata": {
        "id": "4YG5Y3-vugAy",
        "colab": {
          "base_uri": "https://localhost:8080/",
          "height": 391
        },
        "outputId": "df292d70-a691-4df3-8f6c-ce78dd602127"
      },
      "source": [
        "#lemmatize\n",
        "#from textblob import Word\n",
        "\n",
        "from nltk.stem import WordNetLemmatizer\n",
        "\n",
        "def lemmatize(words):\n",
        "    \"\"\"Lemmatize verbs in list of tokenized words\"\"\"\n",
        "    lemmatizer = WordNetLemmatizer()\n",
        "    lemmas = []\n",
        "    for word in words:\n",
        "        lemma = lemmatizer.lemmatize(word, pos='v')\n",
        "        lemmas.append(lemma)\n",
        "    return lemmas\n",
        "\n",
        "\n",
        "train['Phrase'] = train['Phrase'].apply(lemmatize) \n",
        "train\n"
      ],
      "execution_count": null,
      "outputs": [
        {
          "output_type": "execute_result",
          "data": {
            "text/html": [
              "<div>\n",
              "<style scoped>\n",
              "    .dataframe tbody tr th:only-of-type {\n",
              "        vertical-align: middle;\n",
              "    }\n",
              "\n",
              "    .dataframe tbody tr th {\n",
              "        vertical-align: top;\n",
              "    }\n",
              "\n",
              "    .dataframe thead th {\n",
              "        text-align: right;\n",
              "    }\n",
              "</style>\n",
              "<table border=\"1\" class=\"dataframe\">\n",
              "  <thead>\n",
              "    <tr style=\"text-align: right;\">\n",
              "      <th></th>\n",
              "      <th>PhraseId</th>\n",
              "      <th>SentenceId</th>\n",
              "      <th>Phrase</th>\n",
              "      <th>Sentiment</th>\n",
              "      <th>Sentiment Label</th>\n",
              "    </tr>\n",
              "  </thead>\n",
              "  <tbody>\n",
              "    <tr>\n",
              "      <th>0</th>\n",
              "      <td>1</td>\n",
              "      <td>1</td>\n",
              "      <td>[series, escapades, demonstrate, adage, good, ...</td>\n",
              "      <td>1</td>\n",
              "      <td>Somewhat Negative</td>\n",
              "    </tr>\n",
              "    <tr>\n",
              "      <th>1</th>\n",
              "      <td>2</td>\n",
              "      <td>1</td>\n",
              "      <td>[series, escapades, demonstrate, adage, good, ...</td>\n",
              "      <td>2</td>\n",
              "      <td>Neutral</td>\n",
              "    </tr>\n",
              "    <tr>\n",
              "      <th>2</th>\n",
              "      <td>3</td>\n",
              "      <td>1</td>\n",
              "      <td>[series]</td>\n",
              "      <td>2</td>\n",
              "      <td>Neutral</td>\n",
              "    </tr>\n",
              "    <tr>\n",
              "      <th>3</th>\n",
              "      <td>4</td>\n",
              "      <td>1</td>\n",
              "      <td>[]</td>\n",
              "      <td>2</td>\n",
              "      <td>Neutral</td>\n",
              "    </tr>\n",
              "    <tr>\n",
              "      <th>4</th>\n",
              "      <td>5</td>\n",
              "      <td>1</td>\n",
              "      <td>[series]</td>\n",
              "      <td>2</td>\n",
              "      <td>Neutral</td>\n",
              "    </tr>\n",
              "    <tr>\n",
              "      <th>...</th>\n",
              "      <td>...</td>\n",
              "      <td>...</td>\n",
              "      <td>...</td>\n",
              "      <td>...</td>\n",
              "      <td>...</td>\n",
              "    </tr>\n",
              "    <tr>\n",
              "      <th>156055</th>\n",
              "      <td>156056</td>\n",
              "      <td>8544</td>\n",
              "      <td>[hearst]</td>\n",
              "      <td>2</td>\n",
              "      <td>Neutral</td>\n",
              "    </tr>\n",
              "    <tr>\n",
              "      <th>156056</th>\n",
              "      <td>156057</td>\n",
              "      <td>8544</td>\n",
              "      <td>[force, avuncular, chortle]</td>\n",
              "      <td>1</td>\n",
              "      <td>Somewhat Negative</td>\n",
              "    </tr>\n",
              "    <tr>\n",
              "      <th>156057</th>\n",
              "      <td>156058</td>\n",
              "      <td>8544</td>\n",
              "      <td>[avuncular, chortle]</td>\n",
              "      <td>3</td>\n",
              "      <td>Somewhat Positive</td>\n",
              "    </tr>\n",
              "    <tr>\n",
              "      <th>156058</th>\n",
              "      <td>156059</td>\n",
              "      <td>8544</td>\n",
              "      <td>[avuncular]</td>\n",
              "      <td>2</td>\n",
              "      <td>Neutral</td>\n",
              "    </tr>\n",
              "    <tr>\n",
              "      <th>156059</th>\n",
              "      <td>156060</td>\n",
              "      <td>8544</td>\n",
              "      <td>[chortle]</td>\n",
              "      <td>2</td>\n",
              "      <td>Neutral</td>\n",
              "    </tr>\n",
              "  </tbody>\n",
              "</table>\n",
              "<p>156060 rows × 5 columns</p>\n",
              "</div>"
            ],
            "text/plain": [
              "        PhraseId  SentenceId  ... Sentiment    Sentiment Label\n",
              "0              1           1  ...         1  Somewhat Negative\n",
              "1              2           1  ...         2            Neutral\n",
              "2              3           1  ...         2            Neutral\n",
              "3              4           1  ...         2            Neutral\n",
              "4              5           1  ...         2            Neutral\n",
              "...          ...         ...  ...       ...                ...\n",
              "156055    156056        8544  ...         2            Neutral\n",
              "156056    156057        8544  ...         1  Somewhat Negative\n",
              "156057    156058        8544  ...         3  Somewhat Positive\n",
              "156058    156059        8544  ...         2            Neutral\n",
              "156059    156060        8544  ...         2            Neutral\n",
              "\n",
              "[156060 rows x 5 columns]"
            ]
          },
          "metadata": {
            "tags": []
          },
          "execution_count": 25
        }
      ]
    },
    {
      "cell_type": "code",
      "metadata": {
        "id": "lV28CoKYwBMU",
        "colab": {
          "base_uri": "https://localhost:8080/"
        },
        "outputId": "f192661c-a291-439f-b8e8-f8698ad88b97"
      },
      "source": [
        "#vectorize\n",
        "tfidf = TfidfVectorizer(preprocessor=' '.join, stop_words='english')\n",
        "features = tfidf.fit_transform(train['Phrase'])\n",
        "features.shape"
      ],
      "execution_count": null,
      "outputs": [
        {
          "output_type": "execute_result",
          "data": {
            "text/plain": [
              "(156060, 12349)"
            ]
          },
          "metadata": {
            "tags": []
          },
          "execution_count": 26
        }
      ]
    },
    {
      "cell_type": "code",
      "metadata": {
        "id": "qoru3zD_Dgm1",
        "colab": {
          "base_uri": "https://localhost:8080/"
        },
        "outputId": "07d04b6f-4001-4211-b8b6-069cc87b8e3c"
      },
      "source": [
        "from imblearn.over_sampling import SMOTE\n",
        "oversample = SMOTE()\n",
        "\n",
        "X = features\n",
        "Y = train['Sentiment'].values\n",
        "X, Y = oversample.fit_resample(X, Y)"
      ],
      "execution_count": null,
      "outputs": [
        {
          "output_type": "stream",
          "text": [
            "/usr/local/lib/python3.7/dist-packages/sklearn/externals/six.py:31: FutureWarning: The module is deprecated in version 0.21 and will be removed in version 0.23 since we've dropped support for Python 2.7. Please rely on the official version of six (https://pypi.org/project/six/).\n",
            "  \"(https://pypi.org/project/six/).\", FutureWarning)\n",
            "/usr/local/lib/python3.7/dist-packages/sklearn/utils/deprecation.py:144: FutureWarning: The sklearn.neighbors.base module is  deprecated in version 0.22 and will be removed in version 0.24. The corresponding classes / functions should instead be imported from sklearn.neighbors. Anything that cannot be imported from sklearn.neighbors is now part of the private API.\n",
            "  warnings.warn(message, FutureWarning)\n",
            "/usr/local/lib/python3.7/dist-packages/sklearn/utils/deprecation.py:87: FutureWarning: Function safe_indexing is deprecated; safe_indexing is deprecated in version 0.22 and will be removed in version 0.24.\n",
            "  warnings.warn(msg, category=FutureWarning)\n"
          ],
          "name": "stderr"
        }
      ]
    },
    {
      "cell_type": "code",
      "metadata": {
        "id": "QlU2pVsP96Dd"
      },
      "source": [
        "#train test split\n",
        "\n",
        "#stratified k-fold cross-validation will enforce the class distribution in each split of the data to match the distribution in the complete training dataset \n",
        "#https://machinelearningmastery.com/cross-validation-for-imbalanced-classification/ \n",
        "\n",
        "from sklearn.model_selection import StratifiedKFold\n",
        "kfold = StratifiedKFold(n_splits=10, shuffle=True, random_state=17)\n",
        "#enumerate the splits and summarize the distributions\n",
        "for train_ix, test_ix in kfold.split(X, Y):\n",
        "\t# select rows\n",
        "\ttrain_X, test_X = X[train_ix], X[test_ix]\n",
        "\ttrain_Y, test_Y = Y[train_ix], Y[test_ix]\n"
      ],
      "execution_count": null,
      "outputs": []
    },
    {
      "cell_type": "markdown",
      "metadata": {
        "id": "LaZOeT5aczZd"
      },
      "source": [
        "##Multinomial Naive Bayes Classifier"
      ]
    },
    {
      "cell_type": "code",
      "metadata": {
        "id": "SL-K5usN3fGM",
        "colab": {
          "base_uri": "https://localhost:8080/"
        },
        "outputId": "0af1b79c-1ac2-403a-953b-22cbe1a88400"
      },
      "source": [
        "# Multinomial Naive Bayes Classifier \n",
        "from sklearn.naive_bayes import MultinomialNB\n",
        "clf = MultinomialNB()\n",
        "clf.fit(train_X, train_Y)\n",
        "y_pred = clf.predict(test_X)\n",
        "print('Accuracy Score on Train data: {0:.3f}'.format(clf.score(train_X, train_Y)))\n",
        "print('Accuracy Score on Test data: {0:.3f}'.format(clf.score(test_X, test_Y)))\n"
      ],
      "execution_count": null,
      "outputs": [
        {
          "output_type": "stream",
          "text": [
            "Accuracy Score on Train data: 0.595\n",
            "Accuracy Score on Test data: 0.574\n"
          ],
          "name": "stdout"
        }
      ]
    },
    {
      "cell_type": "code",
      "metadata": {
        "id": "VRos1wJY-u7V",
        "colab": {
          "base_uri": "https://localhost:8080/"
        },
        "outputId": "f2c60046-57f8-4ec6-d2a8-4860b45e5508"
      },
      "source": [
        "from sklearn.metrics import classification_report\n",
        "print(classification_report(test_Y, clf.predict(test_X)))"
      ],
      "execution_count": null,
      "outputs": [
        {
          "output_type": "stream",
          "text": [
            "              precision    recall  f1-score   support\n",
            "\n",
            "           0       0.63      0.77      0.70      7959\n",
            "           1       0.54      0.51      0.52      7958\n",
            "           2       0.51      0.35      0.42      7958\n",
            "           3       0.52      0.48      0.50      7958\n",
            "           4       0.63      0.75      0.68      7958\n",
            "\n",
            "    accuracy                           0.57     39791\n",
            "   macro avg       0.56      0.57      0.56     39791\n",
            "weighted avg       0.56      0.57      0.56     39791\n",
            "\n"
          ],
          "name": "stdout"
        }
      ]
    },
    {
      "cell_type": "code",
      "metadata": {
        "id": "e5tER3QtCkTc",
        "colab": {
          "base_uri": "https://localhost:8080/",
          "height": 278
        },
        "outputId": "2c0020fe-2c8e-479d-9850-8c5fde17044b"
      },
      "source": [
        "from sklearn.metrics import confusion_matrix\n",
        "mat = confusion_matrix(test_Y, clf.predict(test_X))\n",
        "sns.heatmap(mat.T, square=True, annot=True, fmt='d', cbar=False)\n",
        "plt.xlabel('true label')\n",
        "plt.ylabel('predicted label');"
      ],
      "execution_count": null,
      "outputs": [
        {
          "output_type": "display_data",
          "data": {
            "image/png": "[encoded data removed]",
            "text/plain": [
              "<Figure size 432x288 with 1 Axes>"
            ]
          },
          "metadata": {
            "tags": [],
            "needs_background": "light"
          }
        }
      ]
    },
    {
      "cell_type": "code",
      "metadata": {
        "id": "ojYSdADz3zeL"
      },
      "source": [
        "#https://www.analyticsvidhya.com/blog/2020/06/auc-roc-curve-machine-learning/ \n",
        "pred_prob1 = clf.predict_proba(test_X)"
      ],
      "execution_count": null,
      "outputs": []
    },
    {
      "cell_type": "code",
      "metadata": {
        "id": "8wbIl8-z39Ru"
      },
      "source": [
        "from sklearn.metrics import roc_curve\n",
        "from sklearn.multiclass import OneVsRestClassifier\n",
        "from sklearn.metrics import roc_auc_score\n",
        "\n",
        "# roc curve for models\n",
        "fpr1, tpr1, thresh1 = roc_curve(test_Y, pred_prob1[:,1], pos_label=1)\n",
        "random_probs = [0 for i in range(len(test_Y))]\n",
        "p_fpr, p_tpr, _ = roc_curve(test_Y, random_probs, pos_label=1)"
      ],
      "execution_count": null,
      "outputs": []
    },
    {
      "cell_type": "code",
      "metadata": {
        "id": "jXnr8zzA8V8y",
        "colab": {
          "base_uri": "https://localhost:8080/",
          "height": 295
        },
        "outputId": "307babb1-e783-459c-f1cc-eed12c8b67b9"
      },
      "source": [
        "# plot roc curve for classes predicted by Multinomial Naive Bayes Classifier\n",
        "fpr = {}\n",
        "tpr = {}\n",
        "thresh ={}\n",
        "\n",
        "n_class = 5\n",
        "\n",
        "for i in range(n_class):    \n",
        "    fpr[i], tpr[i], thresh[i] = roc_curve(test_Y, pred_prob1[:,i], pos_label=i)\n",
        "    \n",
        "# plotting    \n",
        "plt.plot(fpr[0], tpr[0], linestyle='--',color='orange', label='Negative vs Rest')\n",
        "plt.plot(fpr[1], tpr[1], linestyle='--',color='green', label='Somewhat Negative vs Rest')\n",
        "plt.plot(fpr[2], tpr[2], linestyle='--',color='blue', label='Netural 2 vs Rest')\n",
        "plt.plot(fpr[3], tpr[3], linestyle='--',color='red', label='Somewhat Positive 2 vs Rest')\n",
        "plt.plot(fpr[4], tpr[4], linestyle='--',color='black', label='Positive vs Rest')\n",
        "plt.title('Multiclass ROC curve for Multinomial Naive Bayes Classifier')\n",
        "plt.xlabel('False Positive Rate')\n",
        "plt.ylabel('True Positive rate')\n",
        "plt.legend(loc='best')\n",
        "plt.savefig('Multiclass ROC',dpi=300);    "
      ],
      "execution_count": null,
      "outputs": [
        {
          "output_type": "display_data",
          "data": {
            "image/png": "[encoded data removed]",
            "text/plain": [
              "<Figure size 432x288 with 1 Axes>"
            ]
          },
          "metadata": {
            "tags": [],
            "needs_background": "light"
          }
        }
      ]
    },
    {
      "cell_type": "code",
      "metadata": {
        "id": "Zc5eu6ghDgB0",
        "colab": {
          "base_uri": "https://localhost:8080/"
        },
        "outputId": "8b7954ca-eaf7-4165-8c2f-d2ff382bae63"
      },
      "source": [
        "roc_auc_score(test_Y, pred_prob1, multi_class='ovr')"
      ],
      "execution_count": null,
      "outputs": [
        {
          "output_type": "execute_result",
          "data": {
            "text/plain": [
              "0.8628539443255813"
            ]
          },
          "metadata": {
            "tags": []
          },
          "execution_count": 35
        }
      ]
    },
    {
      "cell_type": "markdown",
      "metadata": {
        "id": "XkQFrmnfVh0b"
      },
      "source": [
        "##Logistic Regression##"
      ]
    },
    {
      "cell_type": "code",
      "metadata": {
        "id": "jhJczK-AHS8x",
        "colab": {
          "base_uri": "https://localhost:8080/"
        },
        "outputId": "d3d2772b-bdea-42be-9a0c-599c6538c88d"
      },
      "source": [
        "from sklearn.linear_model import LogisticRegression\n",
        "lr = LogisticRegression(solver = 'liblinear', C=10.0, max_iter=1000,)\n",
        "lr.fit(train_X,train_Y)\n",
        "y_pred1 = lr.predict(test_X)\n",
        "pred_prob2 = lr.predict_proba(test_X)\n",
        "print('Accuracy Score on Train data: {0:.3f}'.format(lr.score(train_X, train_Y)))\n",
        "print('Accuracy Score on Test data: {0:.3f}'.format(lr.score(test_X, test_Y)))\n"
      ],
      "execution_count": null,
      "outputs": [
        {
          "output_type": "stream",
          "text": [
            "Accuracy Score on Train data: 0.655\n",
            "Accuracy Score on Test data: 0.623\n"
          ],
          "name": "stdout"
        }
      ]
    },
    {
      "cell_type": "code",
      "metadata": {
        "id": "Pxeym_dxcQ5z",
        "colab": {
          "base_uri": "https://localhost:8080/"
        },
        "outputId": "414849e5-cebb-4dbc-dec9-1d5de607b0ea"
      },
      "source": [
        "#classification report for Logistic Regression\n",
        "print(classification_report(test_Y, lr.predict(test_X)))"
      ],
      "execution_count": null,
      "outputs": [
        {
          "output_type": "stream",
          "text": [
            "              precision    recall  f1-score   support\n",
            "\n",
            "           0       0.73      0.78      0.75      7959\n",
            "           1       0.63      0.56      0.60      7958\n",
            "           2       0.48      0.52      0.50      7958\n",
            "           3       0.59      0.53      0.56      7958\n",
            "           4       0.68      0.73      0.71      7958\n",
            "\n",
            "    accuracy                           0.62     39791\n",
            "   macro avg       0.62      0.62      0.62     39791\n",
            "weighted avg       0.62      0.62      0.62     39791\n",
            "\n"
          ],
          "name": "stdout"
        }
      ]
    },
    {
      "cell_type": "code",
      "metadata": {
        "colab": {
          "base_uri": "https://localhost:8080/",
          "height": 278
        },
        "id": "PVYxLf4dKQWP",
        "outputId": "43b1c4be-610f-44df-f3e9-dea137ed7111"
      },
      "source": [
        "from sklearn.metrics import confusion_matrix\n",
        "mat = confusion_matrix(test_Y, lr.predict(test_X))\n",
        "sns.heatmap(mat.T, square=True, annot=True, fmt='d', cbar=False)\n",
        "plt.xlabel('true label')\n",
        "plt.ylabel('predicted label');"
      ],
      "execution_count": null,
      "outputs": [
        {
          "output_type": "display_data",
          "data": {
            "image/png": "[encoded data removed]",
            "text/plain": [
              "<Figure size 432x288 with 1 Axes>"
            ]
          },
          "metadata": {
            "tags": [],
            "needs_background": "light"
          }
        }
      ]
    },
    {
      "cell_type": "code",
      "metadata": {
        "id": "ev7ez4zoxiuf",
        "colab": {
          "base_uri": "https://localhost:8080/",
          "height": 295
        },
        "outputId": "8c1e3634-79d0-4399-d297-1d6bea463750"
      },
      "source": [
        "# plot roc curve for classes predicted by Logistic Regression\n",
        "fpr = {}\n",
        "tpr = {}\n",
        "thresh ={}\n",
        "\n",
        "n_class = 5\n",
        "\n",
        "for i in range(n_class):    \n",
        "    fpr[i], tpr[i], thresh[i] = roc_curve(y_pred1, pred_prob2[:,i], pos_label=i)\n",
        "    \n",
        "# plotting    \n",
        "plt.plot(fpr[0], tpr[0], linestyle='--',color='orange', label='Negative vs Rest')\n",
        "plt.plot(fpr[1], tpr[1], linestyle='--',color='green', label='Somewhat Negative vs Rest')\n",
        "plt.plot(fpr[2], tpr[2], linestyle='--',color='blue', label='Netural 2 vs Rest')\n",
        "plt.plot(fpr[3], tpr[3], linestyle='--',color='red', label='Somewhat Positive 2 vs Rest')\n",
        "plt.plot(fpr[4], tpr[4], linestyle='--',color='black', label='Positive vs Rest')\n",
        "plt.title('Multiclass ROC curve for Logistic Regression')\n",
        "plt.xlabel('False Positive Rate')\n",
        "plt.ylabel('True Positive rate')\n",
        "plt.legend(loc='best')\n",
        "plt.savefig('Multiclass ROC',dpi=300);    "
      ],
      "execution_count": null,
      "outputs": [
        {
          "output_type": "display_data",
          "data": {
            "image/png": "[encoded data removed]",
            "text/plain": [
              "<Figure size 432x288 with 1 Axes>"
            ]
          },
          "metadata": {
            "tags": [],
            "needs_background": "light"
          }
        }
      ]
    },
    {
      "cell_type": "code",
      "metadata": {
        "id": "P03u5JthFu8z",
        "colab": {
          "base_uri": "https://localhost:8080/"
        },
        "outputId": "23fc41f7-d0a0-4b81-8d47-3d7e5c4eeeaf"
      },
      "source": [
        "roc_auc_score(test_Y, pred_prob2, multi_class='ovr')"
      ],
      "execution_count": null,
      "outputs": [
        {
          "output_type": "execute_result",
          "data": {
            "text/plain": [
              "0.8851758022903278"
            ]
          },
          "metadata": {
            "tags": []
          },
          "execution_count": 40
        }
      ]
    },
    {
      "cell_type": "markdown",
      "metadata": {
        "id": "mQir5r9_VENC"
      },
      "source": [
        "##Support Vector Classifier"
      ]
    },
    {
      "cell_type": "code",
      "metadata": {
        "id": "pkrSfRKB5LCu",
        "colab": {
          "base_uri": "https://localhost:8080/"
        },
        "outputId": "2d09fc77-9a0f-43e4-edd8-be1f9aaf2717"
      },
      "source": [
        "#Support Vector Classifier\n",
        "from sklearn import svm\n",
        "#set random state for reproducability \n",
        "lin_clf = svm.LinearSVC(multi_class='ovr', C=5.0)\n",
        "lin_clf.fit(train_X,train_Y)"
      ],
      "execution_count": null,
      "outputs": [
        {
          "output_type": "execute_result",
          "data": {
            "text/plain": [
              "LinearSVC(C=5.0, class_weight=None, dual=True, fit_intercept=True,\n",
              "          intercept_scaling=1, loss='squared_hinge', max_iter=1000,\n",
              "          multi_class='ovr', penalty='l2', random_state=None, tol=0.0001,\n",
              "          verbose=0)"
            ]
          },
          "metadata": {
            "tags": []
          },
          "execution_count": 41
        }
      ]
    },
    {
      "cell_type": "code",
      "metadata": {
        "id": "S-S2-At_G0hF",
        "colab": {
          "base_uri": "https://localhost:8080/"
        },
        "outputId": "6a6e75e8-0a07-473c-eb30-f2f3ed35c308"
      },
      "source": [
        "print('Accuracy Score on Train data: {0:.3f}'.format(lin_clf.score(train_X, train_Y)))\n",
        "print('Accuracy Score on Test data: {0:.3f}'.format(lin_clf.score(test_X, test_Y)))"
      ],
      "execution_count": null,
      "outputs": [
        {
          "output_type": "stream",
          "text": [
            "Accuracy Score on Train data: 0.652\n",
            "Accuracy Score on Test data: 0.618\n"
          ],
          "name": "stdout"
        }
      ]
    },
    {
      "cell_type": "code",
      "metadata": {
        "id": "RTr7qVpSC2M6",
        "colab": {
          "base_uri": "https://localhost:8080/"
        },
        "outputId": "e3eb1bdb-2bad-4ef4-e039-56e86b8facee"
      },
      "source": [
        "#classification report for Support Vector Classifier\n",
        "from sklearn.metrics import classification_report\n",
        "print(classification_report(test_Y, lin_clf.predict(test_X)))"
      ],
      "execution_count": null,
      "outputs": [
        {
          "output_type": "stream",
          "text": [
            "              precision    recall  f1-score   support\n",
            "\n",
            "           0       0.72      0.78      0.75      7959\n",
            "           1       0.63      0.55      0.59      7958\n",
            "           2       0.47      0.49      0.48      7958\n",
            "           3       0.59      0.52      0.55      7958\n",
            "           4       0.67      0.74      0.71      7958\n",
            "\n",
            "    accuracy                           0.62     39791\n",
            "   macro avg       0.62      0.62      0.62     39791\n",
            "weighted avg       0.62      0.62      0.62     39791\n",
            "\n"
          ],
          "name": "stdout"
        }
      ]
    },
    {
      "cell_type": "markdown",
      "metadata": {
        "id": "iQvvzJq1Vlr3"
      },
      "source": [
        "## Pre-processing Test Data "
      ]
    },
    {
      "cell_type": "code",
      "metadata": {
        "id": "_ISoQ-57SqdP",
        "colab": {
          "base_uri": "https://localhost:8080/",
          "height": 391
        },
        "outputId": "444535de-db03-4c3f-9592-1a9ca825188d"
      },
      "source": [
        "#print the test dataset to screen\n",
        "test"
      ],
      "execution_count": null,
      "outputs": [
        {
          "output_type": "execute_result",
          "data": {
            "text/html": [
              "<div>\n",
              "<style scoped>\n",
              "    .dataframe tbody tr th:only-of-type {\n",
              "        vertical-align: middle;\n",
              "    }\n",
              "\n",
              "    .dataframe tbody tr th {\n",
              "        vertical-align: top;\n",
              "    }\n",
              "\n",
              "    .dataframe thead th {\n",
              "        text-align: right;\n",
              "    }\n",
              "</style>\n",
              "<table border=\"1\" class=\"dataframe\">\n",
              "  <thead>\n",
              "    <tr style=\"text-align: right;\">\n",
              "      <th></th>\n",
              "      <th>PhraseId</th>\n",
              "      <th>SentenceId</th>\n",
              "      <th>Phrase</th>\n",
              "    </tr>\n",
              "  </thead>\n",
              "  <tbody>\n",
              "    <tr>\n",
              "      <th>0</th>\n",
              "      <td>156061</td>\n",
              "      <td>8545</td>\n",
              "      <td>An intermittently pleasing but mostly routine ...</td>\n",
              "    </tr>\n",
              "    <tr>\n",
              "      <th>1</th>\n",
              "      <td>156062</td>\n",
              "      <td>8545</td>\n",
              "      <td>An intermittently pleasing but mostly routine ...</td>\n",
              "    </tr>\n",
              "    <tr>\n",
              "      <th>2</th>\n",
              "      <td>156063</td>\n",
              "      <td>8545</td>\n",
              "      <td>An</td>\n",
              "    </tr>\n",
              "    <tr>\n",
              "      <th>3</th>\n",
              "      <td>156064</td>\n",
              "      <td>8545</td>\n",
              "      <td>intermittently pleasing but mostly routine effort</td>\n",
              "    </tr>\n",
              "    <tr>\n",
              "      <th>4</th>\n",
              "      <td>156065</td>\n",
              "      <td>8545</td>\n",
              "      <td>intermittently pleasing but mostly routine</td>\n",
              "    </tr>\n",
              "    <tr>\n",
              "      <th>...</th>\n",
              "      <td>...</td>\n",
              "      <td>...</td>\n",
              "      <td>...</td>\n",
              "    </tr>\n",
              "    <tr>\n",
              "      <th>66287</th>\n",
              "      <td>222348</td>\n",
              "      <td>11855</td>\n",
              "      <td>A long-winded , predictable scenario .</td>\n",
              "    </tr>\n",
              "    <tr>\n",
              "      <th>66288</th>\n",
              "      <td>222349</td>\n",
              "      <td>11855</td>\n",
              "      <td>A long-winded , predictable scenario</td>\n",
              "    </tr>\n",
              "    <tr>\n",
              "      <th>66289</th>\n",
              "      <td>222350</td>\n",
              "      <td>11855</td>\n",
              "      <td>A long-winded ,</td>\n",
              "    </tr>\n",
              "    <tr>\n",
              "      <th>66290</th>\n",
              "      <td>222351</td>\n",
              "      <td>11855</td>\n",
              "      <td>A long-winded</td>\n",
              "    </tr>\n",
              "    <tr>\n",
              "      <th>66291</th>\n",
              "      <td>222352</td>\n",
              "      <td>11855</td>\n",
              "      <td>predictable scenario</td>\n",
              "    </tr>\n",
              "  </tbody>\n",
              "</table>\n",
              "<p>66292 rows × 3 columns</p>\n",
              "</div>"
            ],
            "text/plain": [
              "       PhraseId  SentenceId                                             Phrase\n",
              "0        156061        8545  An intermittently pleasing but mostly routine ...\n",
              "1        156062        8545  An intermittently pleasing but mostly routine ...\n",
              "2        156063        8545                                                 An\n",
              "3        156064        8545  intermittently pleasing but mostly routine effort\n",
              "4        156065        8545         intermittently pleasing but mostly routine\n",
              "...         ...         ...                                                ...\n",
              "66287    222348       11855             A long-winded , predictable scenario .\n",
              "66288    222349       11855               A long-winded , predictable scenario\n",
              "66289    222350       11855                                    A long-winded ,\n",
              "66290    222351       11855                                      A long-winded\n",
              "66291    222352       11855                               predictable scenario\n",
              "\n",
              "[66292 rows x 3 columns]"
            ]
          },
          "metadata": {
            "tags": []
          },
          "execution_count": 44
        }
      ]
    },
    {
      "cell_type": "code",
      "metadata": {
        "id": "D9ioTJPqtjQH"
      },
      "source": [
        "#owercase the Phrase column\n",
        "test['Phrase'] = test['Phrase'].str.lower() "
      ],
      "execution_count": null,
      "outputs": []
    },
    {
      "cell_type": "code",
      "metadata": {
        "id": "JwAXzJY0C3IH",
        "colab": {
          "base_uri": "https://localhost:8080/",
          "height": 391
        },
        "outputId": "7d6b0379-02e1-4c87-b5b9-064f73bd20a4"
      },
      "source": [
        "#remove unusual characters and stop words\n",
        "test['Phrase']= test['Phrase'].apply(lambda x: re.sub('[^A-Za-z0-9]+', ' ', x))\n",
        "test['Phrase'] = test['Phrase'].apply(lambda x: \" \".join(x for x in x.split() if x not in stop_words))\n",
        "test"
      ],
      "execution_count": null,
      "outputs": [
        {
          "output_type": "execute_result",
          "data": {
            "text/html": [
              "<div>\n",
              "<style scoped>\n",
              "    .dataframe tbody tr th:only-of-type {\n",
              "        vertical-align: middle;\n",
              "    }\n",
              "\n",
              "    .dataframe tbody tr th {\n",
              "        vertical-align: top;\n",
              "    }\n",
              "\n",
              "    .dataframe thead th {\n",
              "        text-align: right;\n",
              "    }\n",
              "</style>\n",
              "<table border=\"1\" class=\"dataframe\">\n",
              "  <thead>\n",
              "    <tr style=\"text-align: right;\">\n",
              "      <th></th>\n",
              "      <th>PhraseId</th>\n",
              "      <th>SentenceId</th>\n",
              "      <th>Phrase</th>\n",
              "    </tr>\n",
              "  </thead>\n",
              "  <tbody>\n",
              "    <tr>\n",
              "      <th>0</th>\n",
              "      <td>156061</td>\n",
              "      <td>8545</td>\n",
              "      <td>intermittently pleasing mostly routine effort</td>\n",
              "    </tr>\n",
              "    <tr>\n",
              "      <th>1</th>\n",
              "      <td>156062</td>\n",
              "      <td>8545</td>\n",
              "      <td>intermittently pleasing mostly routine effort</td>\n",
              "    </tr>\n",
              "    <tr>\n",
              "      <th>2</th>\n",
              "      <td>156063</td>\n",
              "      <td>8545</td>\n",
              "      <td></td>\n",
              "    </tr>\n",
              "    <tr>\n",
              "      <th>3</th>\n",
              "      <td>156064</td>\n",
              "      <td>8545</td>\n",
              "      <td>intermittently pleasing mostly routine effort</td>\n",
              "    </tr>\n",
              "    <tr>\n",
              "      <th>4</th>\n",
              "      <td>156065</td>\n",
              "      <td>8545</td>\n",
              "      <td>intermittently pleasing mostly routine</td>\n",
              "    </tr>\n",
              "    <tr>\n",
              "      <th>...</th>\n",
              "      <td>...</td>\n",
              "      <td>...</td>\n",
              "      <td>...</td>\n",
              "    </tr>\n",
              "    <tr>\n",
              "      <th>66287</th>\n",
              "      <td>222348</td>\n",
              "      <td>11855</td>\n",
              "      <td>long winded predictable scenario</td>\n",
              "    </tr>\n",
              "    <tr>\n",
              "      <th>66288</th>\n",
              "      <td>222349</td>\n",
              "      <td>11855</td>\n",
              "      <td>long winded predictable scenario</td>\n",
              "    </tr>\n",
              "    <tr>\n",
              "      <th>66289</th>\n",
              "      <td>222350</td>\n",
              "      <td>11855</td>\n",
              "      <td>long winded</td>\n",
              "    </tr>\n",
              "    <tr>\n",
              "      <th>66290</th>\n",
              "      <td>222351</td>\n",
              "      <td>11855</td>\n",
              "      <td>long winded</td>\n",
              "    </tr>\n",
              "    <tr>\n",
              "      <th>66291</th>\n",
              "      <td>222352</td>\n",
              "      <td>11855</td>\n",
              "      <td>predictable scenario</td>\n",
              "    </tr>\n",
              "  </tbody>\n",
              "</table>\n",
              "<p>66292 rows × 3 columns</p>\n",
              "</div>"
            ],
            "text/plain": [
              "       PhraseId  SentenceId                                         Phrase\n",
              "0        156061        8545  intermittently pleasing mostly routine effort\n",
              "1        156062        8545  intermittently pleasing mostly routine effort\n",
              "2        156063        8545                                               \n",
              "3        156064        8545  intermittently pleasing mostly routine effort\n",
              "4        156065        8545         intermittently pleasing mostly routine\n",
              "...         ...         ...                                            ...\n",
              "66287    222348       11855               long winded predictable scenario\n",
              "66288    222349       11855               long winded predictable scenario\n",
              "66289    222350       11855                                    long winded\n",
              "66290    222351       11855                                    long winded\n",
              "66291    222352       11855                           predictable scenario\n",
              "\n",
              "[66292 rows x 3 columns]"
            ]
          },
          "metadata": {
            "tags": []
          },
          "execution_count": 46
        }
      ]
    },
    {
      "cell_type": "code",
      "metadata": {
        "id": "VgqVlyQXDEDf",
        "colab": {
          "base_uri": "https://localhost:8080/",
          "height": 391
        },
        "outputId": "79873527-0f5e-4230-a53f-0f614f1dd832"
      },
      "source": [
        "#tokenize\n",
        "test['Phrase'] = test['Phrase'].str.replace('[^\\w\\s]','')\n",
        "test['Phrase'] = test['Phrase'].apply(word_tokenize)\n",
        "test"
      ],
      "execution_count": null,
      "outputs": [
        {
          "output_type": "execute_result",
          "data": {
            "text/html": [
              "<div>\n",
              "<style scoped>\n",
              "    .dataframe tbody tr th:only-of-type {\n",
              "        vertical-align: middle;\n",
              "    }\n",
              "\n",
              "    .dataframe tbody tr th {\n",
              "        vertical-align: top;\n",
              "    }\n",
              "\n",
              "    .dataframe thead th {\n",
              "        text-align: right;\n",
              "    }\n",
              "</style>\n",
              "<table border=\"1\" class=\"dataframe\">\n",
              "  <thead>\n",
              "    <tr style=\"text-align: right;\">\n",
              "      <th></th>\n",
              "      <th>PhraseId</th>\n",
              "      <th>SentenceId</th>\n",
              "      <th>Phrase</th>\n",
              "    </tr>\n",
              "  </thead>\n",
              "  <tbody>\n",
              "    <tr>\n",
              "      <th>0</th>\n",
              "      <td>156061</td>\n",
              "      <td>8545</td>\n",
              "      <td>[intermittently, pleasing, mostly, routine, ef...</td>\n",
              "    </tr>\n",
              "    <tr>\n",
              "      <th>1</th>\n",
              "      <td>156062</td>\n",
              "      <td>8545</td>\n",
              "      <td>[intermittently, pleasing, mostly, routine, ef...</td>\n",
              "    </tr>\n",
              "    <tr>\n",
              "      <th>2</th>\n",
              "      <td>156063</td>\n",
              "      <td>8545</td>\n",
              "      <td>[]</td>\n",
              "    </tr>\n",
              "    <tr>\n",
              "      <th>3</th>\n",
              "      <td>156064</td>\n",
              "      <td>8545</td>\n",
              "      <td>[intermittently, pleasing, mostly, routine, ef...</td>\n",
              "    </tr>\n",
              "    <tr>\n",
              "      <th>4</th>\n",
              "      <td>156065</td>\n",
              "      <td>8545</td>\n",
              "      <td>[intermittently, pleasing, mostly, routine]</td>\n",
              "    </tr>\n",
              "    <tr>\n",
              "      <th>...</th>\n",
              "      <td>...</td>\n",
              "      <td>...</td>\n",
              "      <td>...</td>\n",
              "    </tr>\n",
              "    <tr>\n",
              "      <th>66287</th>\n",
              "      <td>222348</td>\n",
              "      <td>11855</td>\n",
              "      <td>[long, winded, predictable, scenario]</td>\n",
              "    </tr>\n",
              "    <tr>\n",
              "      <th>66288</th>\n",
              "      <td>222349</td>\n",
              "      <td>11855</td>\n",
              "      <td>[long, winded, predictable, scenario]</td>\n",
              "    </tr>\n",
              "    <tr>\n",
              "      <th>66289</th>\n",
              "      <td>222350</td>\n",
              "      <td>11855</td>\n",
              "      <td>[long, winded]</td>\n",
              "    </tr>\n",
              "    <tr>\n",
              "      <th>66290</th>\n",
              "      <td>222351</td>\n",
              "      <td>11855</td>\n",
              "      <td>[long, winded]</td>\n",
              "    </tr>\n",
              "    <tr>\n",
              "      <th>66291</th>\n",
              "      <td>222352</td>\n",
              "      <td>11855</td>\n",
              "      <td>[predictable, scenario]</td>\n",
              "    </tr>\n",
              "  </tbody>\n",
              "</table>\n",
              "<p>66292 rows × 3 columns</p>\n",
              "</div>"
            ],
            "text/plain": [
              "       PhraseId  SentenceId                                             Phrase\n",
              "0        156061        8545  [intermittently, pleasing, mostly, routine, ef...\n",
              "1        156062        8545  [intermittently, pleasing, mostly, routine, ef...\n",
              "2        156063        8545                                                 []\n",
              "3        156064        8545  [intermittently, pleasing, mostly, routine, ef...\n",
              "4        156065        8545        [intermittently, pleasing, mostly, routine]\n",
              "...         ...         ...                                                ...\n",
              "66287    222348       11855              [long, winded, predictable, scenario]\n",
              "66288    222349       11855              [long, winded, predictable, scenario]\n",
              "66289    222350       11855                                     [long, winded]\n",
              "66290    222351       11855                                     [long, winded]\n",
              "66291    222352       11855                            [predictable, scenario]\n",
              "\n",
              "[66292 rows x 3 columns]"
            ]
          },
          "metadata": {
            "tags": []
          },
          "execution_count": 47
        }
      ]
    },
    {
      "cell_type": "code",
      "metadata": {
        "id": "BSjOEI_dDIv_",
        "colab": {
          "base_uri": "https://localhost:8080/",
          "height": 391
        },
        "outputId": "5f6bdb17-7b7d-4dee-84f6-b6238f10afe3"
      },
      "source": [
        "#lemmatize\n",
        "test['Phrase'] = test['Phrase'].apply(lemmatize) \n",
        "test"
      ],
      "execution_count": null,
      "outputs": [
        {
          "output_type": "execute_result",
          "data": {
            "text/html": [
              "<div>\n",
              "<style scoped>\n",
              "    .dataframe tbody tr th:only-of-type {\n",
              "        vertical-align: middle;\n",
              "    }\n",
              "\n",
              "    .dataframe tbody tr th {\n",
              "        vertical-align: top;\n",
              "    }\n",
              "\n",
              "    .dataframe thead th {\n",
              "        text-align: right;\n",
              "    }\n",
              "</style>\n",
              "<table border=\"1\" class=\"dataframe\">\n",
              "  <thead>\n",
              "    <tr style=\"text-align: right;\">\n",
              "      <th></th>\n",
              "      <th>PhraseId</th>\n",
              "      <th>SentenceId</th>\n",
              "      <th>Phrase</th>\n",
              "    </tr>\n",
              "  </thead>\n",
              "  <tbody>\n",
              "    <tr>\n",
              "      <th>0</th>\n",
              "      <td>156061</td>\n",
              "      <td>8545</td>\n",
              "      <td>[intermittently, please, mostly, routine, effort]</td>\n",
              "    </tr>\n",
              "    <tr>\n",
              "      <th>1</th>\n",
              "      <td>156062</td>\n",
              "      <td>8545</td>\n",
              "      <td>[intermittently, please, mostly, routine, effort]</td>\n",
              "    </tr>\n",
              "    <tr>\n",
              "      <th>2</th>\n",
              "      <td>156063</td>\n",
              "      <td>8545</td>\n",
              "      <td>[]</td>\n",
              "    </tr>\n",
              "    <tr>\n",
              "      <th>3</th>\n",
              "      <td>156064</td>\n",
              "      <td>8545</td>\n",
              "      <td>[intermittently, please, mostly, routine, effort]</td>\n",
              "    </tr>\n",
              "    <tr>\n",
              "      <th>4</th>\n",
              "      <td>156065</td>\n",
              "      <td>8545</td>\n",
              "      <td>[intermittently, please, mostly, routine]</td>\n",
              "    </tr>\n",
              "    <tr>\n",
              "      <th>...</th>\n",
              "      <td>...</td>\n",
              "      <td>...</td>\n",
              "      <td>...</td>\n",
              "    </tr>\n",
              "    <tr>\n",
              "      <th>66287</th>\n",
              "      <td>222348</td>\n",
              "      <td>11855</td>\n",
              "      <td>[long, wind, predictable, scenario]</td>\n",
              "    </tr>\n",
              "    <tr>\n",
              "      <th>66288</th>\n",
              "      <td>222349</td>\n",
              "      <td>11855</td>\n",
              "      <td>[long, wind, predictable, scenario]</td>\n",
              "    </tr>\n",
              "    <tr>\n",
              "      <th>66289</th>\n",
              "      <td>222350</td>\n",
              "      <td>11855</td>\n",
              "      <td>[long, wind]</td>\n",
              "    </tr>\n",
              "    <tr>\n",
              "      <th>66290</th>\n",
              "      <td>222351</td>\n",
              "      <td>11855</td>\n",
              "      <td>[long, wind]</td>\n",
              "    </tr>\n",
              "    <tr>\n",
              "      <th>66291</th>\n",
              "      <td>222352</td>\n",
              "      <td>11855</td>\n",
              "      <td>[predictable, scenario]</td>\n",
              "    </tr>\n",
              "  </tbody>\n",
              "</table>\n",
              "<p>66292 rows × 3 columns</p>\n",
              "</div>"
            ],
            "text/plain": [
              "       PhraseId  SentenceId                                             Phrase\n",
              "0        156061        8545  [intermittently, please, mostly, routine, effort]\n",
              "1        156062        8545  [intermittently, please, mostly, routine, effort]\n",
              "2        156063        8545                                                 []\n",
              "3        156064        8545  [intermittently, please, mostly, routine, effort]\n",
              "4        156065        8545          [intermittently, please, mostly, routine]\n",
              "...         ...         ...                                                ...\n",
              "66287    222348       11855                [long, wind, predictable, scenario]\n",
              "66288    222349       11855                [long, wind, predictable, scenario]\n",
              "66289    222350       11855                                       [long, wind]\n",
              "66290    222351       11855                                       [long, wind]\n",
              "66291    222352       11855                            [predictable, scenario]\n",
              "\n",
              "[66292 rows x 3 columns]"
            ]
          },
          "metadata": {
            "tags": []
          },
          "execution_count": 48
        }
      ]
    },
    {
      "cell_type": "code",
      "metadata": {
        "id": "-VmXADKVDmat",
        "colab": {
          "base_uri": "https://localhost:8080/"
        },
        "outputId": "929b246e-51b7-4c4e-cf35-e5101a5fdb4c"
      },
      "source": [
        "#fit function is not used on test data, transform function only is used to model predictions on established vocabulary of terms from training data\n",
        "test_features = tfidf.transform(test['Phrase'])\n",
        "#confirm size of test data and amount of features to match those model have been trained on\n",
        "test_features.shape"
      ],
      "execution_count": null,
      "outputs": [
        {
          "output_type": "execute_result",
          "data": {
            "text/plain": [
              "(66292, 12349)"
            ]
          },
          "metadata": {
            "tags": []
          },
          "execution_count": 49
        }
      ]
    },
    {
      "cell_type": "code",
      "metadata": {
        "id": "8X9JbBwxIJ81",
        "colab": {
          "base_uri": "https://localhost:8080/",
          "height": 391
        },
        "outputId": "3c6a6e46-9c0c-451a-d254-9c8550e17b9a"
      },
      "source": [
        "test"
      ],
      "execution_count": null,
      "outputs": [
        {
          "output_type": "execute_result",
          "data": {
            "text/html": [
              "<div>\n",
              "<style scoped>\n",
              "    .dataframe tbody tr th:only-of-type {\n",
              "        vertical-align: middle;\n",
              "    }\n",
              "\n",
              "    .dataframe tbody tr th {\n",
              "        vertical-align: top;\n",
              "    }\n",
              "\n",
              "    .dataframe thead th {\n",
              "        text-align: right;\n",
              "    }\n",
              "</style>\n",
              "<table border=\"1\" class=\"dataframe\">\n",
              "  <thead>\n",
              "    <tr style=\"text-align: right;\">\n",
              "      <th></th>\n",
              "      <th>PhraseId</th>\n",
              "      <th>SentenceId</th>\n",
              "      <th>Phrase</th>\n",
              "    </tr>\n",
              "  </thead>\n",
              "  <tbody>\n",
              "    <tr>\n",
              "      <th>0</th>\n",
              "      <td>156061</td>\n",
              "      <td>8545</td>\n",
              "      <td>[intermittently, please, mostly, routine, effort]</td>\n",
              "    </tr>\n",
              "    <tr>\n",
              "      <th>1</th>\n",
              "      <td>156062</td>\n",
              "      <td>8545</td>\n",
              "      <td>[intermittently, please, mostly, routine, effort]</td>\n",
              "    </tr>\n",
              "    <tr>\n",
              "      <th>2</th>\n",
              "      <td>156063</td>\n",
              "      <td>8545</td>\n",
              "      <td>[]</td>\n",
              "    </tr>\n",
              "    <tr>\n",
              "      <th>3</th>\n",
              "      <td>156064</td>\n",
              "      <td>8545</td>\n",
              "      <td>[intermittently, please, mostly, routine, effort]</td>\n",
              "    </tr>\n",
              "    <tr>\n",
              "      <th>4</th>\n",
              "      <td>156065</td>\n",
              "      <td>8545</td>\n",
              "      <td>[intermittently, please, mostly, routine]</td>\n",
              "    </tr>\n",
              "    <tr>\n",
              "      <th>...</th>\n",
              "      <td>...</td>\n",
              "      <td>...</td>\n",
              "      <td>...</td>\n",
              "    </tr>\n",
              "    <tr>\n",
              "      <th>66287</th>\n",
              "      <td>222348</td>\n",
              "      <td>11855</td>\n",
              "      <td>[long, wind, predictable, scenario]</td>\n",
              "    </tr>\n",
              "    <tr>\n",
              "      <th>66288</th>\n",
              "      <td>222349</td>\n",
              "      <td>11855</td>\n",
              "      <td>[long, wind, predictable, scenario]</td>\n",
              "    </tr>\n",
              "    <tr>\n",
              "      <th>66289</th>\n",
              "      <td>222350</td>\n",
              "      <td>11855</td>\n",
              "      <td>[long, wind]</td>\n",
              "    </tr>\n",
              "    <tr>\n",
              "      <th>66290</th>\n",
              "      <td>222351</td>\n",
              "      <td>11855</td>\n",
              "      <td>[long, wind]</td>\n",
              "    </tr>\n",
              "    <tr>\n",
              "      <th>66291</th>\n",
              "      <td>222352</td>\n",
              "      <td>11855</td>\n",
              "      <td>[predictable, scenario]</td>\n",
              "    </tr>\n",
              "  </tbody>\n",
              "</table>\n",
              "<p>66292 rows × 3 columns</p>\n",
              "</div>"
            ],
            "text/plain": [
              "       PhraseId  SentenceId                                             Phrase\n",
              "0        156061        8545  [intermittently, please, mostly, routine, effort]\n",
              "1        156062        8545  [intermittently, please, mostly, routine, effort]\n",
              "2        156063        8545                                                 []\n",
              "3        156064        8545  [intermittently, please, mostly, routine, effort]\n",
              "4        156065        8545          [intermittently, please, mostly, routine]\n",
              "...         ...         ...                                                ...\n",
              "66287    222348       11855                [long, wind, predictable, scenario]\n",
              "66288    222349       11855                [long, wind, predictable, scenario]\n",
              "66289    222350       11855                                       [long, wind]\n",
              "66290    222351       11855                                       [long, wind]\n",
              "66291    222352       11855                            [predictable, scenario]\n",
              "\n",
              "[66292 rows x 3 columns]"
            ]
          },
          "metadata": {
            "tags": []
          },
          "execution_count": 50
        }
      ]
    },
    {
      "cell_type": "markdown",
      "metadata": {
        "id": "A0EfrJWGciAF"
      },
      "source": [
        "## Applying test data to Support Vector Classifier"
      ]
    },
    {
      "cell_type": "code",
      "metadata": {
        "id": "fUnb-y4MUjvW",
        "colab": {
          "base_uri": "https://localhost:8080/",
          "height": 391
        },
        "outputId": "1ae4e517-43fa-40ed-f0e8-9befcdad3e86"
      },
      "source": [
        "#Predictions from SVC\n",
        "predicted = lin_clf.predict(test_features)\n",
        "results = pd.DataFrame(predicted)\n",
        "results"
      ],
      "execution_count": null,
      "outputs": [
        {
          "output_type": "execute_result",
          "data": {
            "text/html": [
              "<div>\n",
              "<style scoped>\n",
              "    .dataframe tbody tr th:only-of-type {\n",
              "        vertical-align: middle;\n",
              "    }\n",
              "\n",
              "    .dataframe tbody tr th {\n",
              "        vertical-align: top;\n",
              "    }\n",
              "\n",
              "    .dataframe thead th {\n",
              "        text-align: right;\n",
              "    }\n",
              "</style>\n",
              "<table border=\"1\" class=\"dataframe\">\n",
              "  <thead>\n",
              "    <tr style=\"text-align: right;\">\n",
              "      <th></th>\n",
              "      <th>0</th>\n",
              "    </tr>\n",
              "  </thead>\n",
              "  <tbody>\n",
              "    <tr>\n",
              "      <th>0</th>\n",
              "      <td>3</td>\n",
              "    </tr>\n",
              "    <tr>\n",
              "      <th>1</th>\n",
              "      <td>3</td>\n",
              "    </tr>\n",
              "    <tr>\n",
              "      <th>2</th>\n",
              "      <td>2</td>\n",
              "    </tr>\n",
              "    <tr>\n",
              "      <th>3</th>\n",
              "      <td>3</td>\n",
              "    </tr>\n",
              "    <tr>\n",
              "      <th>4</th>\n",
              "      <td>3</td>\n",
              "    </tr>\n",
              "    <tr>\n",
              "      <th>...</th>\n",
              "      <td>...</td>\n",
              "    </tr>\n",
              "    <tr>\n",
              "      <th>66287</th>\n",
              "      <td>1</td>\n",
              "    </tr>\n",
              "    <tr>\n",
              "      <th>66288</th>\n",
              "      <td>1</td>\n",
              "    </tr>\n",
              "    <tr>\n",
              "      <th>66289</th>\n",
              "      <td>1</td>\n",
              "    </tr>\n",
              "    <tr>\n",
              "      <th>66290</th>\n",
              "      <td>1</td>\n",
              "    </tr>\n",
              "    <tr>\n",
              "      <th>66291</th>\n",
              "      <td>1</td>\n",
              "    </tr>\n",
              "  </tbody>\n",
              "</table>\n",
              "<p>66292 rows × 1 columns</p>\n",
              "</div>"
            ],
            "text/plain": [
              "       0\n",
              "0      3\n",
              "1      3\n",
              "2      2\n",
              "3      3\n",
              "4      3\n",
              "...   ..\n",
              "66287  1\n",
              "66288  1\n",
              "66289  1\n",
              "66290  1\n",
              "66291  1\n",
              "\n",
              "[66292 rows x 1 columns]"
            ]
          },
          "metadata": {
            "tags": []
          },
          "execution_count": 51
        }
      ]
    },
    {
      "cell_type": "code",
      "metadata": {
        "id": "zxJXtK3-LrKs",
        "colab": {
          "base_uri": "https://localhost:8080/",
          "height": 390
        },
        "outputId": "0fd92256-b333-4890-b8ba-8f871706a43f"
      },
      "source": [
        "pd.value_counts(results[0]).plot.bar()\n",
        "plt.title('Predicted Sentiment Classification by SV Classifier')\n",
        "plt.xlabel('Sentiment')\n",
        "plt.ylabel('Frequency')\n",
        "results.value_counts()"
      ],
      "execution_count": null,
      "outputs": [
        {
          "output_type": "execute_result",
          "data": {
            "text/plain": [
              "2    25070\n",
              "3    13473\n",
              "1    11507\n",
              "4     9446\n",
              "0     6796\n",
              "dtype: int64"
            ]
          },
          "metadata": {
            "tags": []
          },
          "execution_count": 52
        },
        {
          "output_type": "display_data",
          "data": {
            "image/png": "[encoded data removed]",
            "text/plain": [
              "<Figure size 432x288 with 1 Axes>"
            ]
          },
          "metadata": {
            "tags": [],
            "needs_background": "light"
          }
        }
      ]
    },
    {
      "cell_type": "markdown",
      "metadata": {
        "id": "jwhVrcuOWP3k"
      },
      "source": [
        "##Applying test data to Logistic Regression Model ##"
      ]
    },
    {
      "cell_type": "code",
      "metadata": {
        "id": "RHX0H17mOIue",
        "colab": {
          "base_uri": "https://localhost:8080/",
          "height": 391
        },
        "outputId": "e679b53a-b496-4e1c-cc9d-f07819857fae"
      },
      "source": [
        "#Predictions from Logistic Regression Model\n",
        "predicted= lr.predict(test_features)\n",
        "lr_results = pd.DataFrame(predicted)\n",
        "lr_results"
      ],
      "execution_count": null,
      "outputs": [
        {
          "output_type": "execute_result",
          "data": {
            "text/html": [
              "<div>\n",
              "<style scoped>\n",
              "    .dataframe tbody tr th:only-of-type {\n",
              "        vertical-align: middle;\n",
              "    }\n",
              "\n",
              "    .dataframe tbody tr th {\n",
              "        vertical-align: top;\n",
              "    }\n",
              "\n",
              "    .dataframe thead th {\n",
              "        text-align: right;\n",
              "    }\n",
              "</style>\n",
              "<table border=\"1\" class=\"dataframe\">\n",
              "  <thead>\n",
              "    <tr style=\"text-align: right;\">\n",
              "      <th></th>\n",
              "      <th>0</th>\n",
              "    </tr>\n",
              "  </thead>\n",
              "  <tbody>\n",
              "    <tr>\n",
              "      <th>0</th>\n",
              "      <td>3</td>\n",
              "    </tr>\n",
              "    <tr>\n",
              "      <th>1</th>\n",
              "      <td>3</td>\n",
              "    </tr>\n",
              "    <tr>\n",
              "      <th>2</th>\n",
              "      <td>2</td>\n",
              "    </tr>\n",
              "    <tr>\n",
              "      <th>3</th>\n",
              "      <td>3</td>\n",
              "    </tr>\n",
              "    <tr>\n",
              "      <th>4</th>\n",
              "      <td>2</td>\n",
              "    </tr>\n",
              "    <tr>\n",
              "      <th>...</th>\n",
              "      <td>...</td>\n",
              "    </tr>\n",
              "    <tr>\n",
              "      <th>66287</th>\n",
              "      <td>1</td>\n",
              "    </tr>\n",
              "    <tr>\n",
              "      <th>66288</th>\n",
              "      <td>1</td>\n",
              "    </tr>\n",
              "    <tr>\n",
              "      <th>66289</th>\n",
              "      <td>1</td>\n",
              "    </tr>\n",
              "    <tr>\n",
              "      <th>66290</th>\n",
              "      <td>1</td>\n",
              "    </tr>\n",
              "    <tr>\n",
              "      <th>66291</th>\n",
              "      <td>1</td>\n",
              "    </tr>\n",
              "  </tbody>\n",
              "</table>\n",
              "<p>66292 rows × 1 columns</p>\n",
              "</div>"
            ],
            "text/plain": [
              "       0\n",
              "0      3\n",
              "1      3\n",
              "2      2\n",
              "3      3\n",
              "4      2\n",
              "...   ..\n",
              "66287  1\n",
              "66288  1\n",
              "66289  1\n",
              "66290  1\n",
              "66291  1\n",
              "\n",
              "[66292 rows x 1 columns]"
            ]
          },
          "metadata": {
            "tags": []
          },
          "execution_count": 53
        }
      ]
    },
    {
      "cell_type": "code",
      "metadata": {
        "id": "42B3zrlVV6QM",
        "colab": {
          "base_uri": "https://localhost:8080/",
          "height": 390
        },
        "outputId": "113d0d51-6247-49c1-f3e3-28cfd994a72a"
      },
      "source": [
        "pd.value_counts(lr_results[0]).plot.bar()\n",
        "plt.title('Predicted Sentiment Classification by Logistic Regression Classifier')\n",
        "plt.xlabel('Sentiment')\n",
        "plt.ylabel('Frequency')\n",
        "lr_results.value_counts()"
      ],
      "execution_count": null,
      "outputs": [
        {
          "output_type": "execute_result",
          "data": {
            "text/plain": [
              "2    25916\n",
              "3    13676\n",
              "1    11426\n",
              "4     8883\n",
              "0     6391\n",
              "dtype: int64"
            ]
          },
          "metadata": {
            "tags": []
          },
          "execution_count": 54
        },
        {
          "output_type": "display_data",
          "data": {
            "image/png": "[encoded data removed]",
            "text/plain": [
              "<Figure size 432x288 with 1 Axes>"
            ]
          },
          "metadata": {
            "tags": [],
            "needs_background": "light"
          }
        }
      ]
    }
  ]
}